{
 "cells": [
  {
   "cell_type": "markdown",
   "metadata": {},
   "source": [
    "# D1 and D2 neurons in the Direct and Indirect Pathways of the Nucleus Accumbens"
   ]
  },
  {
   "cell_type": "markdown",
   "metadata": {},
   "source": [
    "## Group Yetifans"
   ]
  },
  {
   "cell_type": "markdown",
   "metadata": {},
   "source": [
    "## Abstract"
   ]
  },
  {
   "cell_type": "markdown",
   "metadata": {},
   "source": [
    "The focus of this study was to analyze the relationship between gene expression of DRD1 and DRD2 in key regions implicated in MDD, namely the NAc, VP, and VTA, and projection density of DRD1-expressing neurons and DRD2-expressing neurons in the corresponding regions. Utilizing data from the Allen Brain MicroArray and Mouse Brain Connectivity databases, significant differences in DRD1 gene expression among the three regions, DRD2 gene expression among the three regions, and between DRD1 and DRD2 gene expression for all three regions were found. While regression analysis was conducted, the statistical power to determine significance of the correlation between gene expression and projection density was limited by the small sample size. However, findings suggest receptor gene expression may inform connectivity within this circuitry, providing potential insights into MDD and treatment response mechanisms.  "
   ]
  },
  {
   "cell_type": "markdown",
   "metadata": {},
   "source": [
    "## Research Question"
   ]
  },
  {
   "cell_type": "markdown",
   "metadata": {},
   "source": [
    "How does the connectivity of Dopamenergic D1 and D2 neurons differ in the nucleas accumbens, ventral tegmental area, and ventral pallidum and can the gene expression of these two cell types help to predict any potenital differences?"
   ]
  },
  {
   "cell_type": "markdown",
   "metadata": {},
   "source": [
    "# Background and Prior Work"
   ]
  },
  {
   "cell_type": "markdown",
   "metadata": {},
   "source": [
    "Major depressive disorder (MDD) impacts roughly 10% of adults in the US. Despite such prevalence, its treatment has variable effectiveness (Andrade et al., 2003; Berton and Nestler, 2006). Unfortunately, it remains unclear whether molecular and genetic factors play a role in the variable treatment responses observed in MDD. The most common symptoms of MDD can be characterized as decreases in appetite and motivation which involve the reward circuitry (Nestler and Hyman, 2010). Precisely, the mesolimbic circuitry and its dopaminergic receptors are central to reward. This pathway involves the nucleus accumbens (NAc) and the ventral tegmental area (VTA), where the NAc is necessary for reward-seeking and negative emotion processing. The VTA is critical for hedonics, reward-related learning, and behavioral adaptations, and is reciprocally connected (Zhou, 2022; Doncheck and Mantsch, 2019). VTA dopaminergic neurons project to the NAc where inhibitory D1-receptor expressing and D2-receptor expressing medium spiny neurons (D1-MSNs and D2-MSNs) are the dominant cell population in the NAc and have been known to play a role in stress-induced depressive behaviors (Knowland and Lim, 2018). D1-MSNs and D2-MSNs have different anatomical connections where D1-MSNs are located in the NAc to the VTA, and the ventral pallidum (VP) is known to receive dense inputs from D1-MSNs and D2-MSNs in the NAc that project this information to the VTA and other downstream targets. The VP is part of the limbic loop of the basal ganglia, a pathway involved in regulating motivation and emotion. Direct activation of D1-MSNs has been shown to induce reinforcements and excitatory effects while direct activation of D2-MSNs has been shown to induce punishment and inhibitory effects (Kravitz et al., 2012). We are interested in analyzing the direct D1 pathway from the NAc to the VTA (mesolimbic pathway) alongside an indirect pathway which is from the NAc with D2-MSNs as input neurons to the VP and then to the VTA. \n",
    "\n",
    "Due to our interest in the mesolimbic circuitry, we chose to compare the gene expression levels of D1 receptors and D2 receptors in the NAc, VP, and VTA to the projection volumes of D1 receptor-expressing neurons and D2 receptor-expressing neurons from the NAc to the VP and VTA. We utilized the Allen Brain MicroArray database to obtain the expression levels of D1 receptors and D2 receptors. The microarray database carries gene expression levels in different brain areas from multiple adult control brains. There are 62,000 gene probes per profile, about 500 samples per hemisphere, and the data is mapped with histology into a 3-dimensional anatomical framework created from MRI(Allen Brain Institute, 2011). The dataset in our analysis is filtered to include only the cell types of interest and brain areas of interest. \n",
    "\n",
    "We also incorporated the Allen Mouse Brain Connectivity database that maps the neural connections in the mouse brain using a Cre/Lox system for specificity. A viral tracer labels the axonal projections and the neurons expressing the viral tracers are labeled with fluorescence that are quantified from 2-photon imaging(Allen Brain Institute, 2011). Again, this database was filtered to include the D1-Cre lines and D2-Cre lines where dopaminergic NAc neuronal projections to the VTA, VP, and NAc were analyzed. \n",
    "\n",
    "\n",
    "\n",
    "### Background References:\n",
    "\n",
    "Allen Institute for Brain Science (2004). Allen Mouse Brain Atlas Connectivity. Available from mouse.brain-map.org.Allen Institute for Brain Science (2011).\n",
    "\n",
    "Allen Institute for Brain Science (2004). Allen Mouse Brain Atlas MicroArray. Available from mouse.brain-map.org.Allen Institute for Brain Science (2011).\n",
    "\n",
    "Andrade, L., Caraveo-Anduaga, J. J., Berglund, P., Bijl, R. V., De Graaf, R., Vollebergh, W., Dragomirecka, E., Kohn, R., Keller, M., Kessler, R. C., Kawakami, N., Kiliç, C., Offord, D., Ustun, T. B., & Wittchen, H. U. (2003). The epidemiology of major depressive episodes: results from the International Consortium of Psychiatric Epidemiology (ICPE) Surveys. International journal of methods in psychiatric research, 12(1), 3–21. https://doi.org/10.1002/mpr.138\n",
    "\n",
    "Doncheck, E. M., & Mantsch, J. R. (2019). Role of Stress-Associated Signaling in Addiction. https://doi.org/10.1016/B978-0-12-812202-0.00011-7\n",
    "\n",
    "Knowland, D., & Lim, B. K. (2018). Circuit-based frameworks of depressive behaviors: The role of reward circuitry and beyond. Pharmacology, biochemistry, and behavior, 174, 42–52. https://doi.org/10.1016/j.pbb.2017.12.010\n",
    "\n",
    "Nestler, E. J., & Hyman, S. E. (2010). Animal models of neuropsychiatric disorders. Nature neuroscience, 13(10), 1161–1169. https://doi.org/10.1038/nn.2647\n",
    "\n",
    "Zhou, K., Xu, H., Lu, S. et al. (2022). Reward and aversion processing by input-defined parallel nucleus accumbens circuits in mice. Nat Commun 13, 6244.  https://doi.org/10.1038/s41467-022-33843-3\n"
   ]
  },
  {
   "cell_type": "markdown",
   "metadata": {},
   "source": [
    "## Hypothesis\n"
   ]
  },
  {
   "cell_type": "markdown",
   "metadata": {},
   "source": [
    "In our circuit of interest, we predict a higher level of D2 receptors and D2 projection density to be present in the ventral pallidum. We predict that the nucleus accumbens should have high levels of both receptor types and innervation from both neuron types. The ventral tegmental Area should receive inputs from both neuron types as well as expressing high levels of DRD1a and DRD2. Finally, we predict that there will be a positive correlation between a brain area's gene expression for a certain receptor and its projection density from that same cell type. "
   ]
  },
  {
   "cell_type": "markdown",
   "metadata": {},
   "source": [
    "## Setup\n",
    "\n",
    "First, we need to install the data that we will be using from the allen institute as well as all the toolkits needed for the wrangling, analysis, and visualizations"
   ]
  },
  {
   "cell_type": "code",
   "execution_count": 1,
   "metadata": {},
   "outputs": [],
   "source": [
    "#!pip install allensdk\n",
    "\n",
    "#Importing necessary toolkits - uncomment if needed while running code\n",
    "\n",
    "import matplotlib as mpl\n",
    "import matplotlib.pyplot as plt\n",
    "import pandas as pd\n",
    "import numpy as np\n",
    "import seaborn as sns\n",
    "from scipy import stats\n",
    "from functools import reduce\n",
    "import statistics\n",
    "import requests\n",
    "import json\n",
    "import csv\n",
    "import statsmodels.api as sm"
   ]
  },
  {
   "cell_type": "markdown",
   "metadata": {},
   "source": [
    "# Data Wrangling"
   ]
  },
  {
   "cell_type": "markdown",
   "metadata": {},
   "source": [
    "## Microarray Data\n",
    "\n",
    "The microarray dataset provides information about the gene expression of D1 and D2 receptors in particular brain areas from donors where the mRNA levels are quantified and normalized. We are interested in comparing these expression levels in the nucleus accumbens, the ventral pallidum, and the ventral tegmental area. This section organizes the dataframe and determines the mean value of expression for each brain area. Note that the allen institute organizes their data by nucleus, thus the ventral pallidum is referenced in our dataset as the substantia innominata (for our purposes these will be treated synonymously as data for the other nucleus, the magnocellular nucleus, was not available in most of the experimental data).\n"
   ]
  },
  {
   "cell_type": "markdown",
   "metadata": {},
   "source": [
    "First, we want to organize the data so that we have separate dataframes for D1 and D2 receptor expression and can index the expression level by the brain area and receptor type that we are interested in. We used .csv files to separate the D1 and D2 data as this data was not able to be loaded in from the internet. Then, we will extract the data that we are interested in based on the brain area for further comparison."
   ]
  },
  {
   "cell_type": "code",
   "execution_count": 2,
   "metadata": {},
   "outputs": [],
   "source": [
    "#Accessing D1 and D2 expression levels in different brain areas.\n",
    "#expression dataframe is the normalized gene expression for each probe\n",
    "#columns dataframe gives information about each gene expression column, including brain area\n",
    "#probes dataframe gives information about each probe used in each row of the expression dataframe\n",
    "drd1A_expression_df1 = pd.read_csv(\"Expression.csv\", header =None)\n",
    "drd1A_columns_df = pd.read_csv(\"Columns.csv\")\n",
    "drd1A_probes_df1 = pd.read_csv(\"Probes.csv\")\n",
    "\n",
    "drd2_expression_df = pd.read_csv(\"Expression_drd2.csv\", header=None)\n",
    "drd2_columns_df = pd.read_csv(\"Columns_drd2.csv\")\n",
    "drd2_probes_df = pd.read_csv(\"Probes_drd2.csv\")"
   ]
  },
  {
   "cell_type": "code",
   "execution_count": 3,
   "metadata": {},
   "outputs": [
    {
     "data": {
      "text/html": [
       "<div>\n",
       "<style scoped>\n",
       "    .dataframe tbody tr th:only-of-type {\n",
       "        vertical-align: middle;\n",
       "    }\n",
       "\n",
       "    .dataframe tbody tr th {\n",
       "        vertical-align: top;\n",
       "    }\n",
       "\n",
       "    .dataframe thead th {\n",
       "        text-align: right;\n",
       "    }\n",
       "</style>\n",
       "<table border=\"1\" class=\"dataframe\">\n",
       "  <thead>\n",
       "    <tr style=\"text-align: right;\">\n",
       "      <th></th>\n",
       "      <th>0</th>\n",
       "      <th>1</th>\n",
       "      <th>2</th>\n",
       "      <th>3</th>\n",
       "      <th>4</th>\n",
       "      <th>5</th>\n",
       "      <th>6</th>\n",
       "      <th>7</th>\n",
       "      <th>8</th>\n",
       "      <th>9</th>\n",
       "      <th>...</th>\n",
       "      <th>1005</th>\n",
       "      <th>1006</th>\n",
       "      <th>1007</th>\n",
       "      <th>1008</th>\n",
       "      <th>1009</th>\n",
       "      <th>1010</th>\n",
       "      <th>1011</th>\n",
       "      <th>1012</th>\n",
       "      <th>1013</th>\n",
       "      <th>1014</th>\n",
       "    </tr>\n",
       "  </thead>\n",
       "  <tbody>\n",
       "    <tr>\n",
       "      <th>1</th>\n",
       "      <td>1043986</td>\n",
       "      <td>-0.0371</td>\n",
       "      <td>-0.0820</td>\n",
       "      <td>-0.0228</td>\n",
       "      <td>0.1142</td>\n",
       "      <td>0.1938</td>\n",
       "      <td>0.2972</td>\n",
       "      <td>0.1132</td>\n",
       "      <td>0.3444</td>\n",
       "      <td>0.2088</td>\n",
       "      <td>...</td>\n",
       "      <td>-0.3791</td>\n",
       "      <td>NaN</td>\n",
       "      <td>0.7177</td>\n",
       "      <td>-0.1855</td>\n",
       "      <td>0.5009</td>\n",
       "      <td>0.1508</td>\n",
       "      <td>0.0863</td>\n",
       "      <td>-3.4104</td>\n",
       "      <td>NaN</td>\n",
       "      <td>-3.0842</td>\n",
       "    </tr>\n",
       "    <tr>\n",
       "      <th>2</th>\n",
       "      <td>1022740</td>\n",
       "      <td>0.8934</td>\n",
       "      <td>0.6389</td>\n",
       "      <td>0.7086</td>\n",
       "      <td>0.9939</td>\n",
       "      <td>0.6699</td>\n",
       "      <td>0.7273</td>\n",
       "      <td>0.7026</td>\n",
       "      <td>0.9075</td>\n",
       "      <td>0.8246</td>\n",
       "      <td>...</td>\n",
       "      <td>-0.3913</td>\n",
       "      <td>NaN</td>\n",
       "      <td>-0.5574</td>\n",
       "      <td>-0.4860</td>\n",
       "      <td>-0.3706</td>\n",
       "      <td>0.0299</td>\n",
       "      <td>-0.5195</td>\n",
       "      <td>-1.0960</td>\n",
       "      <td>NaN</td>\n",
       "      <td>-1.4345</td>\n",
       "    </tr>\n",
       "    <tr>\n",
       "      <th>3</th>\n",
       "      <td>1022768</td>\n",
       "      <td>0.7223</td>\n",
       "      <td>-0.2077</td>\n",
       "      <td>0.5518</td>\n",
       "      <td>0.1611</td>\n",
       "      <td>-0.0208</td>\n",
       "      <td>-0.1829</td>\n",
       "      <td>-0.2593</td>\n",
       "      <td>0.5764</td>\n",
       "      <td>0.2545</td>\n",
       "      <td>...</td>\n",
       "      <td>1.1656</td>\n",
       "      <td>NaN</td>\n",
       "      <td>2.1174</td>\n",
       "      <td>1.4998</td>\n",
       "      <td>-0.0031</td>\n",
       "      <td>0.7024</td>\n",
       "      <td>1.0613</td>\n",
       "      <td>-0.0656</td>\n",
       "      <td>NaN</td>\n",
       "      <td>-0.5478</td>\n",
       "    </tr>\n",
       "    <tr>\n",
       "      <th>4</th>\n",
       "      <td>1022767</td>\n",
       "      <td>0.6638</td>\n",
       "      <td>-0.3725</td>\n",
       "      <td>0.5363</td>\n",
       "      <td>0.9453</td>\n",
       "      <td>0.1446</td>\n",
       "      <td>-0.2062</td>\n",
       "      <td>-0.2023</td>\n",
       "      <td>0.0249</td>\n",
       "      <td>0.2449</td>\n",
       "      <td>...</td>\n",
       "      <td>-0.2003</td>\n",
       "      <td>NaN</td>\n",
       "      <td>0.2402</td>\n",
       "      <td>0.0642</td>\n",
       "      <td>-0.3742</td>\n",
       "      <td>0.7346</td>\n",
       "      <td>-0.2488</td>\n",
       "      <td>-0.7443</td>\n",
       "      <td>NaN</td>\n",
       "      <td>-0.9192</td>\n",
       "    </tr>\n",
       "    <tr>\n",
       "      <th>5</th>\n",
       "      <td>1022757</td>\n",
       "      <td>0.9892</td>\n",
       "      <td>0.5909</td>\n",
       "      <td>1.1438</td>\n",
       "      <td>1.0197</td>\n",
       "      <td>0.5686</td>\n",
       "      <td>0.6044</td>\n",
       "      <td>0.4226</td>\n",
       "      <td>1.1734</td>\n",
       "      <td>0.9536</td>\n",
       "      <td>...</td>\n",
       "      <td>-0.1254</td>\n",
       "      <td>NaN</td>\n",
       "      <td>0.2016</td>\n",
       "      <td>-0.1305</td>\n",
       "      <td>-0.8457</td>\n",
       "      <td>-0.5546</td>\n",
       "      <td>-0.7522</td>\n",
       "      <td>-1.0635</td>\n",
       "      <td>NaN</td>\n",
       "      <td>-1.3242</td>\n",
       "    </tr>\n",
       "  </tbody>\n",
       "</table>\n",
       "<p>5 rows × 1015 columns</p>\n",
       "</div>"
      ],
      "text/plain": [
       "      0       1       2       3       4       5       6       7       8     \\\n",
       "1  1043986 -0.0371 -0.0820 -0.0228  0.1142  0.1938  0.2972  0.1132  0.3444   \n",
       "2  1022740  0.8934  0.6389  0.7086  0.9939  0.6699  0.7273  0.7026  0.9075   \n",
       "3  1022768  0.7223 -0.2077  0.5518  0.1611 -0.0208 -0.1829 -0.2593  0.5764   \n",
       "4  1022767  0.6638 -0.3725  0.5363  0.9453  0.1446 -0.2062 -0.2023  0.0249   \n",
       "5  1022757  0.9892  0.5909  1.1438  1.0197  0.5686  0.6044  0.4226  1.1734   \n",
       "\n",
       "     9     ...    1005  1006    1007    1008    1009    1010    1011    1012  \\\n",
       "1  0.2088  ... -0.3791   NaN  0.7177 -0.1855  0.5009  0.1508  0.0863 -3.4104   \n",
       "2  0.8246  ... -0.3913   NaN -0.5574 -0.4860 -0.3706  0.0299 -0.5195 -1.0960   \n",
       "3  0.2545  ...  1.1656   NaN  2.1174  1.4998 -0.0031  0.7024  1.0613 -0.0656   \n",
       "4  0.2449  ... -0.2003   NaN  0.2402  0.0642 -0.3742  0.7346 -0.2488 -0.7443   \n",
       "5  0.9536  ... -0.1254   NaN  0.2016 -0.1305 -0.8457 -0.5546 -0.7522 -1.0635   \n",
       "\n",
       "   1013    1014  \n",
       "1   NaN -3.0842  \n",
       "2   NaN -1.4345  \n",
       "3   NaN -0.5478  \n",
       "4   NaN -0.9192  \n",
       "5   NaN -1.3242  \n",
       "\n",
       "[5 rows x 1015 columns]"
      ]
     },
     "execution_count": 3,
     "metadata": {},
     "output_type": "execute_result"
    }
   ],
   "source": [
    "#remove all the genes that are not DRD1 from the probes and expression dfs and writes a new df for each\n",
    "drd1A_probes_df = drd1A_probes_df1.iloc[2:22]\n",
    "drd1A_expression_df = drd1A_expression_df1.iloc[1:22]\n",
    "\n",
    "#show the probe information\n",
    "drd1A_probes_df.head()\n",
    "\n",
    "#show the expression values\n",
    "drd1A_expression_df[0:5]"
   ]
  },
  {
   "cell_type": "code",
   "execution_count": 4,
   "metadata": {},
   "outputs": [
    {
     "data": {
      "text/plain": [
       "[0.5066476190476191,\n",
       " 0.4633761904761905,\n",
       " 0.5676857142857143,\n",
       " 0.640547619047619,\n",
       " 0.40952857142857146]"
      ]
     },
     "execution_count": 4,
     "metadata": {},
     "output_type": "execute_result"
    }
   ],
   "source": [
    "#from each probe, the average expression is determined(each column)\n",
    "drd1A_expression_means = list(drd1A_expression_df.mean())\n",
    "\n",
    "#overwrite to exclude the id number\n",
    "drd1A_expression_means = drd1A_expression_means[1:]\n",
    "\n",
    "#show drd1 mean expressions\n",
    "drd1A_expression_means[0:5]"
   ]
  },
  {
   "cell_type": "code",
   "execution_count": 5,
   "metadata": {},
   "outputs": [
    {
     "data": {
      "text/plain": [
       "['anterior orbital gyrus',\n",
       " 'frontal operculum',\n",
       " 'frontal pole',\n",
       " 'gyrus rectus',\n",
       " 'inferior frontal gyrus, opercular part']"
      ]
     },
     "execution_count": 5,
     "metadata": {},
     "output_type": "execute_result"
    }
   ],
   "source": [
    "#create a list of the structure names to correspond with the expression values\n",
    "drd1A_structure_names = list(drd1A_columns_df['structure_name'])\n",
    "\n",
    "#show the structure names corresponding to expression values\n",
    "drd1A_structure_names[0:5]"
   ]
  },
  {
   "cell_type": "markdown",
   "metadata": {},
   "source": [
    "Now we've created a list of the mean expression levels for all the brain area and a list of the structures in the columns.csv. The 'structures' order aligns with the expression level so now we can filter for the nucleus accumbens, ventral pallidum, and ventral tregmental area and create seperate lists of the mean expression levels for these brain areas."
   ]
  },
  {
   "cell_type": "code",
   "execution_count": 6,
   "metadata": {},
   "outputs": [
    {
     "name": "stdout",
     "output_type": "stream",
     "text": [
      "Indexes of drd1A expression values for the nucleus accumbens: [66, 235, 404, 573, 742, 911]\n",
      "drd1A expression level for the nucleus accumbens: [2.8607476190476193, 2.85792380952381, 2.454942857142857, 2.872742857142857, 2.5179142857142858, 2.290985714285714]\n"
     ]
    }
   ],
   "source": [
    "#creating a list of the index values where the Nac is in structure_name and then using this index to find the expression levels of drd1 in the nac\n",
    "nac = 'nucleus accumbens'\n",
    "indices = []\n",
    "drd1A_nac_means = []\n",
    "for index, na in enumerate(drd1A_structure_names):\n",
    "    if na == nac:\n",
    "        indices.append(index)\n",
    "print(f'Indexes of drd1A expression values for the nucleus accumbens:', indices)\n",
    "for nac_index in indices:\n",
    "    drd1A_nac_means.append(drd1A_expression_means[nac_index])#list of gene expression of drd1 in the nac\n",
    "print(f'drd1A expression level for the nucleus accumbens:',  drd1A_nac_means)\n"
   ]
  },
  {
   "cell_type": "code",
   "execution_count": 7,
   "metadata": {},
   "outputs": [
    {
     "name": "stdout",
     "output_type": "stream",
     "text": [
      "Indexes of drd1A expression values for the Ventral Pallidum: [60, 229, 398, 567, 736, 905]\n",
      "drd1A expression level for the Ventral Pallidum: [1.3483619047619047, 2.4051095238095237, 1.1445523809523808, 1.3960428571428574, 1.9560714285714282, 1.2077238095238096]\n"
     ]
    }
   ],
   "source": [
    "#repeat for VP\n",
    "#note that the allen institute calls these regions \"substantia innominata\" and \"magnocellular nucleus\"\n",
    "#we combined these because these are the two nuclei of the VP. The magnocellular nucleus does not have as much data as it is a small region, so later in our code we may use only data from the SI depending on what is available.\n",
    "vp = 'substantia innominata'\n",
    "indices_vp = []\n",
    "drd1A_vp_means = []\n",
    "\n",
    "for ind, v in enumerate(drd1A_structure_names):\n",
    "    if v == vp:\n",
    "        indices_vp.append(ind)\n",
    "print(f'Indexes of drd1A expression values for the Ventral Pallidum:', indices_vp)\n",
    "for vp_index in indices_vp:\n",
    "    drd1A_vp_means.append(drd1A_expression_means[vp_index])\n",
    "print(f'drd1A expression level for the Ventral Pallidum:',  drd1A_vp_means)\n"
   ]
  },
  {
   "cell_type": "code",
   "execution_count": 8,
   "metadata": {},
   "outputs": [
    {
     "name": "stdout",
     "output_type": "stream",
     "text": [
      "Indexes of drd1A expression values for the Ventral Tegmental Area: [111, 280, 449, 618, 787, 956]\n",
      "drd1A expression level for the Ventral Tegmental Area: [-0.34863809523809525, -0.29165714285714284, -0.33561428571428575, -0.6328, -0.4356904761904761, -0.39575714285714286]\n"
     ]
    }
   ],
   "source": [
    "#repeat for VTA\n",
    "vta = 'ventral tegmental area'\n",
    "indices_vta = []\n",
    "drd1A_vta_means = []\n",
    "for indexvta, vt in enumerate(drd1A_structure_names):\n",
    "    if vt == vta:\n",
    "        indices_vta.append(indexvta)\n",
    "print(f'Indexes of drd1A expression values for the Ventral Tegmental Area:', indices_vta)\n",
    "for indexvta in indices_vta:\n",
    "    drd1A_vta_means.append(drd1A_expression_means[indexvta])\n",
    "print(f'drd1A expression level for the Ventral Tegmental Area:',  drd1A_vta_means)\n"
   ]
  },
  {
   "cell_type": "markdown",
   "metadata": {},
   "source": [
    "Now we have the mean D1 expression data for each of our regions of interest. Let's repeat this for D2 receptors."
   ]
  },
  {
   "cell_type": "code",
   "execution_count": 9,
   "metadata": {},
   "outputs": [
    {
     "name": "stdout",
     "output_type": "stream",
     "text": [
      "DRD2 expression level for the nucleus accumbens: [2.68504, 2.176, 2.4898000000000002, 2.05736, 1.8538000000000001, 1.85592]\n"
     ]
    }
   ],
   "source": [
    "drd2_expression_means = list(drd2_expression_df.mean())\n",
    "drd2_structure_names = list(drd2_columns_df['structure_name'])\n",
    "\n",
    "#find instances of NAC in structure name and add the expression value from that index to a new list\n",
    "nac_drd2 = 'nucleus accumbens'\n",
    "indices_nac2 = []\n",
    "drd2_nac_means = []\n",
    "for i, nacdrd2 in enumerate(drd2_structure_names):\n",
    "    if nacdrd2 == nac_drd2:\n",
    "        indices_nac2.append(i)\n",
    "\n",
    "for item in indices_nac2:\n",
    "    drd2_nac_means.append(drd2_expression_means[item])\n",
    "\n",
    "print(f'DRD2 expression level for the nucleus accumbens:',  drd2_nac_means)"
   ]
  },
  {
   "cell_type": "code",
   "execution_count": 10,
   "metadata": {},
   "outputs": [
    {
     "name": "stdout",
     "output_type": "stream",
     "text": [
      "Indexes of DRD2 expression values for the Ventral Pallidum: [60, 229, 398, 567, 736, 905]\n",
      "DRD2 expression level for the Ventral Pallidum: [0.21675999999999998, 0.5036799999999999, 0.31476000000000004, 0.21683999999999998, 0.5344599999999999]\n"
     ]
    }
   ],
   "source": [
    "#repeat for VP\n",
    "vpdrd2 = 'substantia innominata'\n",
    "\n",
    "indices_vp2 = []\n",
    "drd2_vp_means = []\n",
    "\n",
    "for ind2, v2 in enumerate(drd2_structure_names):\n",
    "    if v2 == vpdrd2:\n",
    "        indices_vp2.append(ind2)\n",
    "        \n",
    "print(f'Indexes of DRD2 expression values for the Ventral Pallidum:', indices_vp2)\n",
    "\n",
    "for vp2_index in indices_vp2:\n",
    "    drd2_vp_means.append(drd2_expression_means[vp2_index])\n",
    "\n",
    "del drd2_vp_means[4]#has the value nan\n",
    "print(f'DRD2 expression level for the Ventral Pallidum:',  drd2_vp_means)\n"
   ]
  },
  {
   "cell_type": "code",
   "execution_count": 11,
   "metadata": {},
   "outputs": [
    {
     "name": "stdout",
     "output_type": "stream",
     "text": [
      "Indexes of DRD2 expression values for the Ventral Tegmental Area: [111, 280, 449, 618, 787, 956]\n",
      "DRD2 expression level for the Ventral Tegmental Area: [-0.07346, 0.15977999999999998]\n"
     ]
    }
   ],
   "source": [
    "#repeat for VTA\n",
    "vta = 'ventral tegmental area'\n",
    "indices_vta2 = []\n",
    "drd2_vta_means = []\n",
    "\n",
    "for indexvta2, vt2 in enumerate(drd2_structure_names):\n",
    "    if vt2 == vta:\n",
    "        indices_vta2.append(indexvta2)\n",
    "\n",
    "print(f'Indexes of DRD2 expression values for the Ventral Tegmental Area:', indices_vta2)\n",
    "\n",
    "for indexvta2 in indices_vta2:\n",
    "    drd2_vta_means.append(drd2_expression_means[indexvta2])\n",
    "\n",
    "drd2_vta_means = drd2_vta_means[:2]\n",
    "print(f'DRD2 expression level for the Ventral Tegmental Area:',  drd2_vta_means)\n"
   ]
  },
  {
   "cell_type": "markdown",
   "metadata": {},
   "source": [
    "## Connectivity\n",
    "\n",
    "The connectivity dataset provides information about the projections of neurons and can be indexed by a target region of interest. Because the Nucleus Accumbens is the input structure that we are primarily interested in, we will be filtering for D1 and D2 receptor-expressing neurons that project from the nucleus accumbens. By using a cre-driver line that is selective for DRD1A and DRD2 we can select for experiments in which only neurons that express these genes are present. This section organizes the data and gives us the projection densities for D1/D2 neurons in each target brain area. \n"
   ]
  },
  {
   "cell_type": "markdown",
   "metadata": {},
   "source": [
    "First, we need to import all of the connectivity data and packages that we need and make a new dataframe containing all of the experiments. We will use this to access the cre experiments that we want."
   ]
  },
  {
   "cell_type": "code",
   "execution_count": 12,
   "metadata": {},
   "outputs": [],
   "source": [
    "from allensdk.core.mouse_connectivity_cache import MouseConnectivityCache\n",
    "from allensdk.api.queries.mouse_connectivity_api import MouseConnectivityApi\n",
    "\n",
    "#Import Onto package\n",
    "from allensdk.api.queries.ontologies_api import OntologiesApi\n",
    "oapi = OntologiesApi()\n",
    "\n",
    "mcc = MouseConnectivityCache(manifest_file='connectivity/mouse_connectivity_manifest.json')\n",
    "\n",
    "#Gather all the experiments with Cre and WildType\n",
    "all_experiments = mcc.get_experiments(dataframe=True)\n",
    "\n",
    "#Grab the StructureTree instance. This will give us all of the brain regions that are connected and can be accessed through our new df.\n",
    "structure_tree = mcc.get_structure_tree()\n",
    "\n",
    "#Get the IDs of all the structure sets in the tree\n",
    "structure_set_ids = structure_tree.get_structure_sets()\n",
    "\n",
    "#Query the API for information on those structure sets\n",
    "main_structure_df = pd.DataFrame(oapi.get_structure_sets(structure_set_ids))"
   ]
  },
  {
   "cell_type": "code",
   "execution_count": 13,
   "metadata": {},
   "outputs": [],
   "source": [
    "# Retrieve list of all structures from summary set\n",
    "summary_structures = structure_tree.get_structures_by_set_id([167587189])\n",
    "\n",
    "# Convert list of structures into DataFrame\n",
    "summary_structures_df = pd.DataFrame(summary_structures)\n",
    "\n",
    "# List of columns in summary set\n",
    "list(summary_structures_df.columns)\n",
    "\n",
    "# Gather all the unique structure names\n",
    "structure_name = summary_structures_df['name'].unique()"
   ]
  },
  {
   "cell_type": "markdown",
   "metadata": {},
   "source": [
    "Now that we have a list of the structure IDs and a df of the experiments, we can filter for our regions of interest."
   ]
  },
  {
   "cell_type": "code",
   "execution_count": 14,
   "metadata": {},
   "outputs": [
    {
     "name": "stdout",
     "output_type": "stream",
     "text": [
      "The ID for NAc is 56\n"
     ]
    },
    {
     "data": {
      "text/html": [
       "<div>\n",
       "<style scoped>\n",
       "    .dataframe tbody tr th:only-of-type {\n",
       "        vertical-align: middle;\n",
       "    }\n",
       "\n",
       "    .dataframe tbody tr th {\n",
       "        vertical-align: top;\n",
       "    }\n",
       "\n",
       "    .dataframe thead th {\n",
       "        text-align: right;\n",
       "    }\n",
       "</style>\n",
       "<table border=\"1\" class=\"dataframe\">\n",
       "  <thead>\n",
       "    <tr style=\"text-align: right;\">\n",
       "      <th></th>\n",
       "      <th>acronym</th>\n",
       "      <th>graph_id</th>\n",
       "      <th>graph_order</th>\n",
       "      <th>id</th>\n",
       "      <th>name</th>\n",
       "      <th>structure_id_path</th>\n",
       "      <th>structure_set_ids</th>\n",
       "      <th>rgb_triplet</th>\n",
       "    </tr>\n",
       "  </thead>\n",
       "  <tbody>\n",
       "    <tr>\n",
       "      <th>77</th>\n",
       "      <td>ACB</td>\n",
       "      <td>1</td>\n",
       "      <td>575</td>\n",
       "      <td>56</td>\n",
       "      <td>Nucleus accumbens</td>\n",
       "      <td>[997, 8, 567, 623, 477, 493, 56]</td>\n",
       "      <td>[112905828, 691663206, 688152361, 10, 68752794...</td>\n",
       "      <td>[128, 205, 248]</td>\n",
       "    </tr>\n",
       "  </tbody>\n",
       "</table>\n",
       "</div>"
      ],
      "text/plain": [
       "   acronym  graph_id  graph_order  id               name  \\\n",
       "77     ACB         1          575  56  Nucleus accumbens   \n",
       "\n",
       "                   structure_id_path  \\\n",
       "77  [997, 8, 567, 623, 477, 493, 56]   \n",
       "\n",
       "                                    structure_set_ids      rgb_triplet  \n",
       "77  [112905828, 691663206, 688152361, 10, 68752794...  [128, 205, 248]  "
      ]
     },
     "execution_count": 14,
     "metadata": {},
     "output_type": "execute_result"
    }
   ],
   "source": [
    "# Filter for Nucleus accumbens ID\n",
    "nucleus_accumbens_df = summary_structures_df[summary_structures_df['name'] == 'Nucleus accumbens']\n",
    "nucleus_accumbens_id = nucleus_accumbens_df.iloc[0]['id']\n",
    "nucleus_accumbens_id = int(nucleus_accumbens_id)\n",
    "print(f'The ID for NAc is {nucleus_accumbens_id}')\n",
    "nucleus_accumbens_df.head()"
   ]
  },
  {
   "cell_type": "code",
   "execution_count": 15,
   "metadata": {},
   "outputs": [
    {
     "name": "stdout",
     "output_type": "stream",
     "text": [
      "The ID for SI is 342\n"
     ]
    },
    {
     "data": {
      "text/html": [
       "<div>\n",
       "<style scoped>\n",
       "    .dataframe tbody tr th:only-of-type {\n",
       "        vertical-align: middle;\n",
       "    }\n",
       "\n",
       "    .dataframe tbody tr th {\n",
       "        vertical-align: top;\n",
       "    }\n",
       "\n",
       "    .dataframe thead th {\n",
       "        text-align: right;\n",
       "    }\n",
       "</style>\n",
       "<table border=\"1\" class=\"dataframe\">\n",
       "  <thead>\n",
       "    <tr style=\"text-align: right;\">\n",
       "      <th></th>\n",
       "      <th>acronym</th>\n",
       "      <th>graph_id</th>\n",
       "      <th>graph_order</th>\n",
       "      <th>id</th>\n",
       "      <th>name</th>\n",
       "      <th>structure_id_path</th>\n",
       "      <th>structure_set_ids</th>\n",
       "      <th>rgb_triplet</th>\n",
       "    </tr>\n",
       "  </thead>\n",
       "  <tbody>\n",
       "    <tr>\n",
       "      <th>92</th>\n",
       "      <td>SI</td>\n",
       "      <td>1</td>\n",
       "      <td>613</td>\n",
       "      <td>342</td>\n",
       "      <td>Substantia innominata</td>\n",
       "      <td>[997, 8, 567, 623, 803, 835, 342]</td>\n",
       "      <td>[112905828, 691663206, 687527945, 688152362, 1...</td>\n",
       "      <td>[162, 177, 216]</td>\n",
       "    </tr>\n",
       "  </tbody>\n",
       "</table>\n",
       "</div>"
      ],
      "text/plain": [
       "   acronym  graph_id  graph_order   id                   name  \\\n",
       "92      SI         1          613  342  Substantia innominata   \n",
       "\n",
       "                    structure_id_path  \\\n",
       "92  [997, 8, 567, 623, 803, 835, 342]   \n",
       "\n",
       "                                    structure_set_ids      rgb_triplet  \n",
       "92  [112905828, 691663206, 687527945, 688152362, 1...  [162, 177, 216]  "
      ]
     },
     "execution_count": 15,
     "metadata": {},
     "output_type": "execute_result"
    }
   ],
   "source": [
    "# Filter for Substantia innominata (Ventral Pallidum) ID\n",
    "substantia_innominata_df = summary_structures_df[summary_structures_df['name'] == 'Substantia innominata']\n",
    "substantia_innominata_id = substantia_innominata_df.iloc[0]['id']\n",
    "substantia_innominata_id = int(substantia_innominata_id)\n",
    "print(f'The ID for SI is {substantia_innominata_id}')\n",
    "substantia_innominata_df.head()"
   ]
  },
  {
   "cell_type": "code",
   "execution_count": 16,
   "metadata": {},
   "outputs": [
    {
     "name": "stdout",
     "output_type": "stream",
     "text": [
      "The ID for VTA is 749\n"
     ]
    },
    {
     "data": {
      "text/html": [
       "<div>\n",
       "<style scoped>\n",
       "    .dataframe tbody tr th:only-of-type {\n",
       "        vertical-align: middle;\n",
       "    }\n",
       "\n",
       "    .dataframe tbody tr th {\n",
       "        vertical-align: top;\n",
       "    }\n",
       "\n",
       "    .dataframe thead th {\n",
       "        text-align: right;\n",
       "    }\n",
       "</style>\n",
       "<table border=\"1\" class=\"dataframe\">\n",
       "  <thead>\n",
       "    <tr style=\"text-align: right;\">\n",
       "      <th></th>\n",
       "      <th>acronym</th>\n",
       "      <th>graph_id</th>\n",
       "      <th>graph_order</th>\n",
       "      <th>id</th>\n",
       "      <th>name</th>\n",
       "      <th>structure_id_path</th>\n",
       "      <th>structure_set_ids</th>\n",
       "      <th>rgb_triplet</th>\n",
       "    </tr>\n",
       "  </thead>\n",
       "  <tbody>\n",
       "    <tr>\n",
       "      <th>195</th>\n",
       "      <td>VTA</td>\n",
       "      <td>1</td>\n",
       "      <td>823</td>\n",
       "      <td>749</td>\n",
       "      <td>Ventral tegmental area</td>\n",
       "      <td>[997, 8, 343, 313, 323, 749]</td>\n",
       "      <td>[112905828, 691663206, 687527945, 10, 12, 6881...</td>\n",
       "      <td>[255, 144, 255]</td>\n",
       "    </tr>\n",
       "  </tbody>\n",
       "</table>\n",
       "</div>"
      ],
      "text/plain": [
       "    acronym  graph_id  graph_order   id                    name  \\\n",
       "195     VTA         1          823  749  Ventral tegmental area   \n",
       "\n",
       "                structure_id_path  \\\n",
       "195  [997, 8, 343, 313, 323, 749]   \n",
       "\n",
       "                                     structure_set_ids      rgb_triplet  \n",
       "195  [112905828, 691663206, 687527945, 10, 12, 6881...  [255, 144, 255]  "
      ]
     },
     "execution_count": 16,
     "metadata": {},
     "output_type": "execute_result"
    }
   ],
   "source": [
    "# Filter for Ventral tegmental area ID\n",
    "ventral_tegmental_df = summary_structures_df[summary_structures_df['name'] == 'Ventral tegmental area']\n",
    "ventral_tegmental_id = ventral_tegmental_df.iloc[0]['id']\n",
    "ventral_tegmental_id = int(ventral_tegmental_id)\n",
    "print(f'The ID for VTA is {ventral_tegmental_id}')\n",
    "ventral_tegmental_df.head()"
   ]
  },
  {
   "cell_type": "markdown",
   "metadata": {},
   "source": [
    "Now using these IDs, we can look for experiments with our cell types of interest. "
   ]
  },
  {
   "cell_type": "code",
   "execution_count": 17,
   "metadata": {},
   "outputs": [
    {
     "name": "stdout",
     "output_type": "stream",
     "text": [
      "There are 3 Drd1-Cre Nucleus Accumbens experiments\n",
      "15 NAc structure unionizes\n"
     ]
    }
   ],
   "source": [
    "#DRD1 experiments with NAC as injection site\n",
    "#Gather all unique transgenic lines\n",
    "transgenic_lines = all_experiments['transgenic_line'].unique()\n",
    "\n",
    "# Filter for nucleus accumbens\n",
    "NAc = structure_tree.get_structures_by_name(['Nucleus accumbens'])[0]\n",
    "\n",
    "# Determine whether there are Cre experiments with NAc as primary injection structure\n",
    "Cre_NAc_experiments = mcc.get_experiments(cre=True, injection_structure_ids = [NAc['id']])\n",
    "\n",
    "# Drd1a-Cre_EY262 Experiments\n",
    "\n",
    "# Filter for Drd1a-Cre_EY262 line and see if there are any experiments in the NAc\n",
    "Drd1Cre_NAc_experiments = mcc.get_experiments(cre=[ 'Drd1a-Cre_EY262' ], injection_structure_ids = [NAc['id']])\n",
    "num_Drd1Cre_NAc_experiments = len(Drd1Cre_NAc_experiments)\n",
    "print(f'There are {num_Drd1Cre_NAc_experiments} Drd1-Cre Nucleus Accumbens experiments')\n",
    "\n",
    "# Found 1 experiment using Drd1a-Cre-4932 transgenic line\n",
    "# Found 2 experiments using Drd1a-Cre_EY262 transgenic line\n",
    "\n",
    "# Gather the experiment IDs\n",
    "Drd1Cre_NAc_structure_unionizes = mcc.get_structure_unionizes([e['id'] for e in Drd1Cre_NAc_experiments],\n",
    "                                                  structure_ids=[NAc['id']],\n",
    "                                                  include_descendants=True)\n",
    "\n",
    "print(\"%d NAc structure unionizes\" % len(Drd1Cre_NAc_structure_unionizes))\n",
    "\n",
    "# Experiment IDs identified: 170785775, 168615344, 168614604"
   ]
  },
  {
   "cell_type": "code",
   "execution_count": 18,
   "metadata": {},
   "outputs": [
    {
     "name": "stdout",
     "output_type": "stream",
     "text": [
      "There are 2 Drd2-Cre Nucleus Accumbens experiments\n",
      "10 NAc structure unionizes\n"
     ]
    }
   ],
   "source": [
    "#DRD2 experiments with NAC as injection site\n",
    "\n",
    "# Drd2-Cre_ER44 Experiments\n",
    "\n",
    "# Filter for Drd2-Cre_ER44 line and see if there are any experiments\n",
    "Drd2Cre_NAc_experiments = mcc.get_experiments(cre=[ 'Drd2-Cre_ER44' ], injection_structure_ids = [NAc['id']])\n",
    "num_Drd2Cre_NAc_experiments = len(Drd2Cre_NAc_experiments)\n",
    "print(f'There are {num_Drd2Cre_NAc_experiments} Drd2-Cre Nucleus Accumbens experiments')\n",
    "\n",
    "# Found 2 experiments using Drd2-Cre_ER44 transgenic line\n",
    "\n",
    "# Gather experiment IDs\n",
    "Drd2Cre_NAc_structure_unionizes = mcc.get_structure_unionizes([e['id'] for e in Drd2Cre_NAc_experiments],\n",
    "                                                  structure_ids=[NAc['id']],\n",
    "                                                  include_descendants=True)\n",
    "\n",
    "print(\"%d NAc structure unionizes\" % len(Drd2Cre_NAc_structure_unionizes))\n",
    "\n",
    "# Experiment IDs identified: 167904966, 175732001"
   ]
  },
  {
   "cell_type": "code",
   "execution_count": 19,
   "metadata": {},
   "outputs": [],
   "source": [
    "# Drd1 experiments\n",
    "# D1 [170785775, 168615344, 168614604]\n",
    "e1_Drd1 = requests.get('http://api.brain-map.org/api/v2/data/ProjectionStructureUnionize/query.xml?criteria=[section_data_set_id$eq170785775],[is_injection$eqfalse]&num_rows=5000&include=structure')\n",
    "e2_Drd1 = requests.get('http://api.brain-map.org/api/v2/data/ProjectionStructureUnionize/query.xml?criteria=[section_data_set_id$eq168615344],[is_injection$eqfalse]&num_rows=5000&include=structure')\n",
    "e3_Drd1 = requests.get('http://api.brain-map.org/api/v2/data/ProjectionStructureUnionize/query.xml?criteria=[section_data_set_id$eq168614604],[is_injection$eqfalse]&num_rows=5000&include=structure')\n",
    "\n",
    "# Drd2 experiments\n",
    "# D2 [167904966, 175732001]\n",
    "e1_Drd2 = requests.get('http://api.brain-map.org/api/v2/data/ProjectionStructureUnionize/query.xml?criteria=[section_data_set_id$eq167904966],[is_injection$eqfalse]&num_rows=5000&include=structure')\n",
    "e2_Drd2 = requests.get('http://api.brain-map.org/api/v2/data/ProjectionStructureUnionize/query.xml?criteria=[section_data_set_id$eq175732001],[is_injection$eqfalse]&num_rows=5000&include=structure')\n"
   ]
  },
  {
   "cell_type": "code",
   "execution_count": 20,
   "metadata": {},
   "outputs": [],
   "source": [
    "# Make list of Drd1 data\n",
    "Drd1_data = [e1_Drd1,e2_Drd1,e3_Drd1]\n",
    "\n",
    "# Loop within Drd1_data\n",
    "for i in Drd1_data:\n",
    "    clean_data = i.text.split('\\n') #Remove unnecessary parts of the strings\n",
    "    proj_density = [] #Empty list for projection density values\n",
    "    region_names = [] #Empty list for name of regions\n",
    "    #Nestled for loop to remove unnecessary parts of the projection density and safe name strings\n",
    "    for j in clean_data:\n",
    "        if 'projection-density' in j: #Call all projection density numbers\n",
    "            proj_1 = j.split('</')\n",
    "            proj_2 = proj_1[0].split('>')\n",
    "            proj_density.append(float(proj_2[1])) #Add the numbers as floats to the list\n",
    "        if 'safe-name' in j: #Call all names\n",
    "            region_name_1 = j.split('</')\n",
    "            region_name_2 = region_name_1[0].split('>')\n",
    "            region_names.append(region_name_2[1])\n",
    "\n",
    "data_dict = {'Name':region_names, 'Projection density':proj_density}\n",
    "data_df = pd.DataFrame(data_dict) #Make dict into df\n",
    "data_df = data_df.sort_values(by= 'Projection density',ascending = False) #Organize projection values by descending order"
   ]
  },
  {
   "cell_type": "code",
   "execution_count": 21,
   "metadata": {},
   "outputs": [
    {
     "data": {
      "text/html": [
       "<div>\n",
       "<style scoped>\n",
       "    .dataframe tbody tr th:only-of-type {\n",
       "        vertical-align: middle;\n",
       "    }\n",
       "\n",
       "    .dataframe tbody tr th {\n",
       "        vertical-align: top;\n",
       "    }\n",
       "\n",
       "    .dataframe thead th {\n",
       "        text-align: right;\n",
       "    }\n",
       "</style>\n",
       "<table border=\"1\" class=\"dataframe\">\n",
       "  <thead>\n",
       "    <tr style=\"text-align: right;\">\n",
       "      <th></th>\n",
       "      <th>Name</th>\n",
       "      <th>Projection density</th>\n",
       "    </tr>\n",
       "  </thead>\n",
       "  <tbody>\n",
       "    <tr>\n",
       "      <th>595</th>\n",
       "      <td>Substantia innominata</td>\n",
       "      <td>0.079499</td>\n",
       "    </tr>\n",
       "    <tr>\n",
       "      <th>2134</th>\n",
       "      <td>Ventral tegmental area</td>\n",
       "      <td>0.071264</td>\n",
       "    </tr>\n",
       "    <tr>\n",
       "      <th>1081</th>\n",
       "      <td>Nucleus accumbens</td>\n",
       "      <td>0.039991</td>\n",
       "    </tr>\n",
       "    <tr>\n",
       "      <th>33</th>\n",
       "      <td>Substantia innominata</td>\n",
       "      <td>0.039739</td>\n",
       "    </tr>\n",
       "    <tr>\n",
       "      <th>1903</th>\n",
       "      <td>Ventral tegmental area</td>\n",
       "      <td>0.038732</td>\n",
       "    </tr>\n",
       "    <tr>\n",
       "      <th>676</th>\n",
       "      <td>Nucleus accumbens</td>\n",
       "      <td>0.018950</td>\n",
       "    </tr>\n",
       "    <tr>\n",
       "      <th>1159</th>\n",
       "      <td>Ventral tegmental area</td>\n",
       "      <td>0.006200</td>\n",
       "    </tr>\n",
       "    <tr>\n",
       "      <th>2206</th>\n",
       "      <td>Substantia innominata</td>\n",
       "      <td>0.000137</td>\n",
       "    </tr>\n",
       "    <tr>\n",
       "      <th>2067</th>\n",
       "      <td>Nucleus accumbens</td>\n",
       "      <td>0.000100</td>\n",
       "    </tr>\n",
       "  </tbody>\n",
       "</table>\n",
       "</div>"
      ],
      "text/plain": [
       "                        Name  Projection density\n",
       "595    Substantia innominata            0.079499\n",
       "2134  Ventral tegmental area            0.071264\n",
       "1081       Nucleus accumbens            0.039991\n",
       "33     Substantia innominata            0.039739\n",
       "1903  Ventral tegmental area            0.038732\n",
       "676        Nucleus accumbens            0.018950\n",
       "1159  Ventral tegmental area            0.006200\n",
       "2206   Substantia innominata            0.000137\n",
       "2067       Nucleus accumbens            0.000100"
      ]
     },
     "execution_count": 21,
     "metadata": {},
     "output_type": "execute_result"
    }
   ],
   "source": [
    "# Define regions of interest\n",
    "regions_of_interest = ['Nucleus accumbens', 'Substantia innominata', 'Ventral tegmental area']\n",
    "\n",
    "# Filter data for regions of interest\n",
    "filtered_data_df = data_df[data_df['Name'].isin(regions_of_interest)]\n",
    "\n",
    "# Show Drd1 projection densities in descending order\n",
    "filtered_data_df"
   ]
  },
  {
   "cell_type": "code",
   "execution_count": 22,
   "metadata": {},
   "outputs": [
    {
     "data": {
      "text/plain": [
       "[1081    0.039991\n",
       " 676     0.018950\n",
       " 2067    0.000100\n",
       " Name: Projection density, dtype: float64,\n",
       " 595     0.079499\n",
       " 33      0.039739\n",
       " 2206    0.000137\n",
       " Name: Projection density, dtype: float64,\n",
       " 2134    0.071264\n",
       " 1903    0.038732\n",
       " 1159    0.006200\n",
       " Name: Projection density, dtype: float64]"
      ]
     },
     "execution_count": 22,
     "metadata": {},
     "output_type": "execute_result"
    }
   ],
   "source": [
    "# Filter data for regions of interest\n",
    "NAc_Drd1_df = data_df[data_df['Name']=='Nucleus accumbens']['Projection density']\n",
    "SI_Drd1_df = data_df[data_df['Name']=='Substantia innominata']['Projection density']\n",
    "VTA_Drd1_df = data_df[data_df['Name']=='Ventral tegmental area']['Projection density']\n",
    "\n",
    "#create dataframe with DRD1 experiments only in NAc, SI/VP, and VTA\n",
    "Drd1_df = [NAc_Drd1_df, SI_Drd1_df, VTA_Drd1_df]\n",
    "\n",
    "Drd1_df[0:5]"
   ]
  },
  {
   "cell_type": "code",
   "execution_count": 23,
   "metadata": {},
   "outputs": [],
   "source": [
    "#repeat for D2\n",
    "Drd2_data = [e1_Drd2,e2_Drd2]\n",
    "\n",
    "# Loop within Drd2_data\n",
    "for i in Drd2_data:\n",
    "    clean_data2 = i.text.split('\\n') #Remove unnecessary parts of the strings\n",
    "    proj_density2 = [] #Empty list for projection density values\n",
    "    region_names2 = [] #Empty list for name of regions\n",
    "    #Nestled for loop to remove unnecessary parts of the projection density and safe name strings\n",
    "    for j in clean_data2:\n",
    "        if 'projection-density' in j: #Call all projection density numbers\n",
    "            d2proj_1 = j.split('</')\n",
    "            d2proj_2 = d2proj_1[0].split('>')\n",
    "            proj_density2.append(float(d2proj_2[1])) #Add the numbers as floats to the list\n",
    "        if 'safe-name' in j: #Call all names\n",
    "            d2region_name_1 = j.split('</')\n",
    "            d2region_name_2 = d2region_name_1[0].split('>')\n",
    "            region_names2.append(d2region_name_2[1])\n",
    "\n",
    "#Dictionary of Name and Proj density values\n",
    "data_dict2 = {'Name':region_names2, 'Projection density':proj_density2}\n",
    "\n",
    "#Make dict into df\n",
    "data_df2 = pd.DataFrame(data_dict2)\n",
    "\n",
    "#Organize projection values by descending order\n",
    "data_df2 = data_df2.sort_values(by= 'Projection density', ascending = False)"
   ]
  },
  {
   "cell_type": "code",
   "execution_count": 24,
   "metadata": {},
   "outputs": [
    {
     "data": {
      "text/html": [
       "<div>\n",
       "<style scoped>\n",
       "    .dataframe tbody tr th:only-of-type {\n",
       "        vertical-align: middle;\n",
       "    }\n",
       "\n",
       "    .dataframe tbody tr th {\n",
       "        vertical-align: top;\n",
       "    }\n",
       "\n",
       "    .dataframe thead th {\n",
       "        text-align: right;\n",
       "    }\n",
       "</style>\n",
       "<table border=\"1\" class=\"dataframe\">\n",
       "  <thead>\n",
       "    <tr style=\"text-align: right;\">\n",
       "      <th></th>\n",
       "      <th>Name</th>\n",
       "      <th>Projection density</th>\n",
       "    </tr>\n",
       "  </thead>\n",
       "  <tbody>\n",
       "    <tr>\n",
       "      <th>239</th>\n",
       "      <td>Nucleus accumbens</td>\n",
       "      <td>7.637379e-02</td>\n",
       "    </tr>\n",
       "    <tr>\n",
       "      <th>200</th>\n",
       "      <td>Substantia innominata</td>\n",
       "      <td>6.448212e-02</td>\n",
       "    </tr>\n",
       "    <tr>\n",
       "      <th>1532</th>\n",
       "      <td>Nucleus accumbens</td>\n",
       "      <td>3.674230e-02</td>\n",
       "    </tr>\n",
       "    <tr>\n",
       "      <th>463</th>\n",
       "      <td>Substantia innominata</td>\n",
       "      <td>3.202529e-02</td>\n",
       "    </tr>\n",
       "    <tr>\n",
       "      <th>479</th>\n",
       "      <td>Ventral tegmental area</td>\n",
       "      <td>8.912111e-03</td>\n",
       "    </tr>\n",
       "    <tr>\n",
       "      <th>677</th>\n",
       "      <td>Ventral tegmental area</td>\n",
       "      <td>4.551897e-03</td>\n",
       "    </tr>\n",
       "    <tr>\n",
       "      <th>466</th>\n",
       "      <td>Ventral tegmental area</td>\n",
       "      <td>1.916827e-04</td>\n",
       "    </tr>\n",
       "    <tr>\n",
       "      <th>267</th>\n",
       "      <td>Nucleus accumbens</td>\n",
       "      <td>3.283883e-06</td>\n",
       "    </tr>\n",
       "    <tr>\n",
       "      <th>2503</th>\n",
       "      <td>Substantia innominata</td>\n",
       "      <td>3.118906e-07</td>\n",
       "    </tr>\n",
       "  </tbody>\n",
       "</table>\n",
       "</div>"
      ],
      "text/plain": [
       "                        Name  Projection density\n",
       "239        Nucleus accumbens        7.637379e-02\n",
       "200    Substantia innominata        6.448212e-02\n",
       "1532       Nucleus accumbens        3.674230e-02\n",
       "463    Substantia innominata        3.202529e-02\n",
       "479   Ventral tegmental area        8.912111e-03\n",
       "677   Ventral tegmental area        4.551897e-03\n",
       "466   Ventral tegmental area        1.916827e-04\n",
       "267        Nucleus accumbens        3.283883e-06\n",
       "2503   Substantia innominata        3.118906e-07"
      ]
     },
     "execution_count": 24,
     "metadata": {},
     "output_type": "execute_result"
    }
   ],
   "source": [
    "regions_of_interest = ['Nucleus accumbens', 'Substantia innominata', 'Ventral tegmental area']\n",
    "\n",
    "#Filter D2 data for regions of interest\n",
    "filtered_data_df2 = data_df2[data_df2['Name'].isin(regions_of_interest)]\n",
    "\n",
    "#Show Drd2 projection densities in descending order\n",
    "filtered_data_df2\n"
   ]
  },
  {
   "cell_type": "code",
   "execution_count": 25,
   "metadata": {},
   "outputs": [],
   "source": [
    "# Filter D2 data for regions of interest\n",
    "NAc_Drd2_df = data_df2[data_df2['Name']=='Nucleus accumbens']['Projection density']\n",
    "SI_Drd2_df = data_df2[data_df2['Name']=='Substantia innominata']['Projection density']\n",
    "VTA_Drd2_df = data_df2[data_df2['Name']=='Ventral tegmental area']['Projection density']\n",
    "\n",
    "#create dataframe with DRD2 experiments only in NAc, SI/VP, and VTA\n",
    "Drd2_df = [SI_Drd2_df, NAc_Drd2_df, VTA_Drd2_df]"
   ]
  },
  {
   "cell_type": "markdown",
   "metadata": {},
   "source": [
    "Now, we have datasets for D1 and D2 receptor expression in our areas of interst and have identified and isolated data for D1 and D2 receptor-expressing neurons from the connectivity dataset. We will use this clean data for our visualizations."
   ]
  },
  {
   "cell_type": "markdown",
   "metadata": {},
   "source": [
    "# Data Analysis & Results"
   ]
  },
  {
   "cell_type": "markdown",
   "metadata": {},
   "source": [
    "## Data visualization: Microarray data\n",
    "\n",
    "We can now plot our data to compare D1 and D2 receptor expression across brain areas, and compare D1 and D2 expression for each area as well."
   ]
  },
  {
   "cell_type": "code",
   "execution_count": 26,
   "metadata": {},
   "outputs": [
    {
     "data": {
      "image/png": "[encoded data removed]",
      "text/plain": [
       "<Figure size 720x576 with 1 Axes>"
      ]
     },
     "metadata": {
      "needs_background": "light"
     },
     "output_type": "display_data"
    }
   ],
   "source": [
    "#box plot for VP, VTA, NAC D1R expression \n",
    "fig,ax = plt.subplots(1,1,figsize=(10,8))\n",
    "boxplot_data = [drd1A_vp_means, drd1A_nac_means,drd1A_vta_means]\n",
    "\n",
    "d1exp_boxplot = ax.boxplot(boxplot_data, patch_artist=True)\n",
    "\n",
    "#fill\n",
    "colors = ['gold', 'green', 'pink']\n",
    "for patch, color in zip(d1exp_boxplot['boxes'], colors):\n",
    "    patch.set_facecolor(color)\n",
    "\n",
    "ax.set_xticklabels(['Ventral Pallidum','Nucleus Accumbens','Ventral Tegmental Area'])\n",
    "ax.set_ylabel('Normalized Gene Expression')\n",
    "ax.set_title(\"Dopamine D1 Receptor Expression Levels\")\n",
    "plt.show()"
   ]
  },
  {
   "cell_type": "markdown",
   "metadata": {},
   "source": [
    "### 1a. ###\n",
    "Normalized gene expression for D2 receptors in each area. The VTA shows the lowest level of relative D1 expression."
   ]
  },
  {
   "cell_type": "code",
   "execution_count": 27,
   "metadata": {},
   "outputs": [
    {
     "data": {
      "image/png": "[encoded data removed]",
      "text/plain": [
       "<Figure size 720x576 with 1 Axes>"
      ]
     },
     "metadata": {
      "needs_background": "light"
     },
     "output_type": "display_data"
    }
   ],
   "source": [
    "#box plot for VP, VTA, and NAC D2R expression\n",
    "fig,ax = plt.subplots(1,1,figsize=(10,8))\n",
    "boxplot_data2 = [drd2_vp_means, drd2_nac_means, drd2_vta_means]\n",
    "\n",
    "d2exp_boxplot = ax.boxplot(boxplot_data2, patch_artist=True)\n",
    "\n",
    "for patch, color in zip(d2exp_boxplot['boxes'], colors):\n",
    "    patch.set_facecolor(color)\n",
    "\n",
    "ax.set_xticklabels(['Ventral Pallidum','Nucleus Accumbens','Ventral Tegmental Area'])\n",
    "ax.set_ylabel('Normalized Gene Expression')\n",
    "ax.set_title(\"Dopamine D2 Receptor Expression Levels\")\n",
    "plt.show()"
   ]
  },
  {
   "cell_type": "markdown",
   "metadata": {},
   "source": [
    "### 1b. ###\n",
    "Normalized gene expression for D2 receptors in each area. The NAc shows the highest level of relative D2 expression."
   ]
  },
  {
   "cell_type": "markdown",
   "metadata": {},
   "source": [
    "Now, let's compare D1 and D2 receptor expression within each brain area."
   ]
  },
  {
   "cell_type": "code",
   "execution_count": 28,
   "metadata": {},
   "outputs": [
    {
     "data": {
      "image/png": "[encoded data removed]",
      "text/plain": [
       "<Figure size 576x1152 with 3 Axes>"
      ]
     },
     "metadata": {
      "needs_background": "light"
     },
     "output_type": "display_data"
    }
   ],
   "source": [
    "fig, ax = plt.subplots(3, 1, figsize=(8, 16))\n",
    "\n",
    "dopa_colors = ['red', 'blue']\n",
    "\n",
    "# Comparing D2 and D1 in the VP\n",
    "boxplot_data3 = [drd2_vp_means, drd1A_vp_means]\n",
    "bp = ax[0].boxplot(boxplot_data3, patch_artist=True, boxprops=dict(facecolor=\"red\"))\n",
    "\n",
    "for patch, color in zip(bp['boxes'], dopa_colors):\n",
    "    patch.set_facecolor(color)\n",
    "\n",
    "ax[0].set_xticklabels(['D2', 'D1'])\n",
    "ax[0].set_ylabel('Normalized Gene Expression')\n",
    "ax[0].set_title(\"Expression of D2 and D1 Receptors in the Ventral Pallidum\")\n",
    "\n",
    "# Comparing D2 and D1 in the NAC\n",
    "boxplot_data4 = [drd2_nac_means, drd1A_nac_means]\n",
    "bp = ax[1].boxplot(boxplot_data4, patch_artist=True, boxprops=dict(facecolor=\"red\"))\n",
    "\n",
    "for patch, color in zip(bp['boxes'], dopa_colors):\n",
    "    patch.set_facecolor(color)\n",
    "\n",
    "ax[1].set_xticklabels(['D2', 'D1'])\n",
    "ax[1].set_ylabel('Normalized Gene Expression')\n",
    "ax[1].set_title(\"Expression of D2 and D1 Receptors in the Nucleus Accumbens\")\n",
    "\n",
    "# Comparing D2 and D1 in the VTA\n",
    "boxplot_data5 = [drd2_vta_means, drd1A_vta_means]\n",
    "bp = ax[2].boxplot(boxplot_data5, patch_artist=True, boxprops=dict(facecolor=\"red\"))\n",
    "\n",
    "for patch, color in zip(bp['boxes'], dopa_colors):\n",
    "    patch.set_facecolor(color)\n",
    "\n",
    "ax[2].set_xticklabels(['D2', 'D1'])\n",
    "ax[2].set_ylabel('Normalized Gene Expression')\n",
    "ax[2].set_title(\"Expression of D2 and D1 Receptors in the Ventral Tegmental Area\")\n",
    "\n",
    "plt.tight_layout()\n",
    "plt.show()"
   ]
  },
  {
   "cell_type": "markdown",
   "metadata": {},
   "source": [
    "### 1c. ###\n",
    "Gene expression rates for D1 vs. D2 receptors in each brain area."
   ]
  },
  {
   "cell_type": "markdown",
   "metadata": {},
   "source": [
    "Based on these plots, it seems like we might have some significant trends in differing receptor expression in our regions of interest. Next, we will test for significant differences in expression levels across groups before we combine our data. "
   ]
  },
  {
   "cell_type": "code",
   "execution_count": 29,
   "metadata": {},
   "outputs": [
    {
     "name": "stdout",
     "output_type": "stream",
     "text": [
      "Reject the null hypothesis - Significant difference between the VP, NAc, and VTA in D1-Receptors\n",
      "Reject the null hypothesis - Significant difference between the VP, NAc, and VTA in D2-Receptors\n",
      "Significant difference found between D1 and D2 in the nucleus accumbens(p < 0.05)\n",
      "Significant difference found between D1 and D2 in the ventral pallidum(p < 0.05)\n",
      "Significant difference found between D1 and D2 in the ventral tegmental area(p < 0.05)\n"
     ]
    }
   ],
   "source": [
    "#testing for stastical difference between expression levels in D1 for the nac, vp, and vta\n",
    "f_stats_d1, p_val_drd1A = stats.f_oneway(drd1A_vp_means, drd1A_nac_means, drd1A_vta_means)\n",
    "f_stat_d2, p_val_drd2 = stats.f_oneway(drd2_vp_means, drd2_nac_means, drd2_vta_means)\n",
    "\n",
    "if p_val_drd1A < 0.05:\n",
    "    print(\"Reject the null hypothesis - Significant difference between the VP, NAc, and VTA in D1-Receptors\")\n",
    "else:\n",
    "    print(\"Fail to reject the null hypothesis - No significant difference between the VP, NAc, and VTA in D1-Receptors\")\n",
    "\n",
    "if p_val_drd2 < 0.05:\n",
    "    print(\"Reject the null hypothesis - Significant difference between the VP, NAc, and VTA in D2-Receptors\")\n",
    "else:\n",
    "    print(\"Fail to reject the null hypothesis - No significant difference between the VP, NAc, and VTA in D2-Receptors\")\n",
    "\n",
    "#now we will test for difference in expression level between d1 and d2 in each brain area\n",
    "t_stat, p_val_nac = stats.ttest_ind(drd2_nac_means, drd1A_nac_means)\n",
    "\n",
    "if p_val_nac < 0.05:\n",
    "    print(\"Significant difference found between D1 and D2 in the nucleus accumbens(p < 0.05)\")\n",
    "else:\n",
    "    print(\"No significant difference found between D1 and D2 in the nucleus accumbens (p >= 0.05)\")\n",
    "\n",
    "\n",
    "t_stat, p_val_vp = stats.ttest_ind(drd2_vp_means, drd1A_vp_means)\n",
    "if p_val_vp < 0.05:\n",
    "    print(\"Significant difference found between D1 and D2 in the ventral pallidum(p < 0.05)\")\n",
    "else:\n",
    "    print(\"No significant difference found between D1 and D2 in the ventral pallidum(p >= 0.05)\")\n",
    "\n",
    "\n",
    "t_stat, p_val_vta = stats.ttest_ind(drd2_vta_means, drd1A_vta_means)\n",
    "if p_val_vta < 0.05:\n",
    "    print(\"Significant difference found between D1 and D2 in the ventral tegmental area(p < 0.05)\")\n",
    "else:\n",
    "    print(\"No significant difference found between D1 and D2 in ventral tegmental area(p >= 0.05)\")\n",
    "\n"
   ]
  },
  {
   "cell_type": "markdown",
   "metadata": {},
   "source": [
    "Let's put this data all together!"
   ]
  },
  {
   "cell_type": "code",
   "execution_count": 30,
   "metadata": {},
   "outputs": [
    {
     "data": {
      "image/png": "[encoded data removed]",
      "text/plain": [
       "<Figure size 864x576 with 1 Axes>"
      ]
     },
     "metadata": {
      "needs_background": "light"
     },
     "output_type": "display_data"
    }
   ],
   "source": [
    "#boxplot of all expression data\n",
    "fig, ax = plt.subplots(figsize=(12, 8))\n",
    "\n",
    "#combine the data for D1 and D2 receptors in each brain region\n",
    "boxplot_data_combined = [\n",
    "    drd1A_vp_means,  # D1 in VP\n",
    "    drd2_vp_means,   # D2 in VP\n",
    "    drd1A_nac_means, # D1 in NAc\n",
    "    drd2_nac_means,  # D2 in NAc\n",
    "    drd1A_vta_means, # D1 in VTA\n",
    "    drd2_vta_means   # D2 in VTA\n",
    "]\n",
    "\n",
    "# Colors for each brain region\n",
    "colors = ['goldenrod', 'goldenrod', 'green', 'green', 'pink', 'pink']\n",
    "\n",
    "#linestyles\n",
    "linestyles = ['-', '-', '-', '-', '-', '-']\n",
    "\n",
    "#make the boxes for d2 hatched\n",
    "hatches = ['/', '/', '/', '/', '/', '/']\n",
    "\n",
    "#spacing\n",
    "positions = [1, 1.8, 3, 3.8, 5, 5.8]\n",
    "\n",
    "#create plot\n",
    "boxplot = ax.boxplot(boxplot_data_combined, positions=positions, patch_artist=True)\n",
    "\n",
    "#color coding boxes and setting texture\n",
    "for i, (patch, color, linestyle, hatch) in enumerate(zip(boxplot['boxes'], colors, linestyles, hatches)):\n",
    "    if i % 2 == 0:  # D1 receptors\n",
    "        patch.set_facecolor(color)\n",
    "        patch.set_linestyle(linestyle)\n",
    "    else:  # D2 receptors\n",
    "        patch.set_facecolor('none')\n",
    "        patch.set_edgecolor(color)\n",
    "        patch.set_hatch(hatch)\n",
    "\n",
    "ax.set_xticks([1.25, 3.25, 5.25])\n",
    "ax.set_xticklabels(['VP', 'NAc', 'VTA'])\n",
    "ax.set_ylabel('Normalized Gene Expression')\n",
    "ax.set_title(\"Gene Expression Levels of Dopamine D1 and D2 Receptors Across Brain Regions\")\n",
    "\n",
    "# Add significance indicators\n",
    "for x, p_val, color in zip([1.8], [p_val_vp], ['goldenrod']):\n",
    "    if p_val < 0.05:\n",
    "        ax.text(x, 0.6, \"*\", ha='center', va='bottom', color=color, fontsize=16)\n",
    "        \n",
    "for x, p_val, color in zip([3.8], [p_val_nac], ['green']):\n",
    "    if p_val < 0.05:\n",
    "        ax.text(x, 2.8, \"*\", ha='center', va='bottom', color=color, fontsize=16)\n",
    "\n",
    "for x, p_val, color in zip([5.8], [p_val_vta], ['pink']):\n",
    "    if p_val < 0.05:\n",
    "        ax.text(x, 0.25, \"*\", ha='center', va='bottom', color='pink', fontsize=16)\n",
    "\n",
    "#legend\n",
    "legend_labels = ['D1', 'D2']\n",
    "legend_patches = [plt.Rectangle((0,0),1,1,fc='black'), plt.Rectangle((0,0),1,1,fc='white', edgecolor='black', hatch='////')]\n",
    "ax.legend(legend_patches, legend_labels, loc='upper right')\n",
    "\n",
    "plt.show()"
   ]
  },
  {
   "cell_type": "markdown",
   "metadata": {},
   "source": [
    "## Fig. 1 ##\n",
    "This plot shows the normalized mean expression levels of D1 and D2 receptors across each of our regions of interest. Significance within an area between the levels of D1 and D2 receptor expression are shown. T-tests were carried out to compare differences in D1/D2 receptors and significant differences were found for each region. The NAc has the overall highest relative expression of both receptor types, while the VTA has the lowest relative expression of both types. The VP shows the largest difference in relative expression between D1 and D2 receptors. "
   ]
  },
  {
   "cell_type": "markdown",
   "metadata": {},
   "source": [
    "Now that we have an idea of the trends in receptor expression, let's visualize the trends in D1/D2 receptor-expressing neuronal projections throughout our circuit. "
   ]
  },
  {
   "cell_type": "code",
   "execution_count": 31,
   "metadata": {},
   "outputs": [
    {
     "data": {
      "image/png": "[encoded data removed]",
      "text/plain": [
       "<Figure size 720x360 with 1 Axes>"
      ]
     },
     "metadata": {
      "needs_background": "light"
     },
     "output_type": "display_data"
    }
   ],
   "source": [
    "#create boxplot comparing projection densities for D1\n",
    "fig,ax = plt.subplots(1,1,figsize=(10,5))\n",
    "#redefine D1 df incase it has been overwritten\n",
    "Drd1_df = [NAc_Drd1_df, SI_Drd1_df, VTA_Drd1_df]\n",
    "\n",
    "colors = [ 'green', 'gold','pink']\n",
    "d1conn_boxplot = ax.boxplot(Drd1_df, patch_artist = True)\n",
    "for box, color in zip(d1conn_boxplot['boxes'], colors):\n",
    "    box.set_facecolor(color)\n",
    "\n",
    "ax.set_xticklabels(['Nucleus Accumbens', 'Ventral Pallidum', 'Ventral Tegmental Area'])\n",
    "ax.set_ylabel('Projection Density')\n",
    "ax.set_title(\"Projection Densities of Neurons Expressing Dopamine D1 Receptors\")\n",
    "plt.show()"
   ]
  },
  {
   "cell_type": "markdown",
   "metadata": {},
   "source": [
    "# Fig. 2a #\n",
    "\n",
    "Projection densities of neurons expressing D1 receptors. The relative volume of innervation from neurons that express D1 receptors with cell bodies in the Nucleus accumbens. The NAc recieves the lowest amount of relative D1-expressing neuronal input. Note that significance testing was not carried out due to the few experimental datapoints that were present."
   ]
  },
  {
   "cell_type": "code",
   "execution_count": 32,
   "metadata": {},
   "outputs": [
    {
     "data": {
      "image/png": "[encoded data removed]",
      "text/plain": [
       "<Figure size 720x360 with 1 Axes>"
      ]
     },
     "metadata": {
      "needs_background": "light"
     },
     "output_type": "display_data"
    }
   ],
   "source": [
    "#repeat for D2\n",
    "fig, ax = plt.subplots(1, 1, figsize=(10, 5))\n",
    "\n",
    "#redefine D2 df incase it has been overwritten\n",
    "Drd2_df = [NAc_Drd2_df, SI_Drd2_df, VTA_Drd2_df]\n",
    "\n",
    "# Creating boxplot\n",
    "d2conn_boxplot = ax.boxplot(Drd2_df, patch_artist = True)\n",
    "colors = ['green', 'gold', 'pink']\n",
    "\n",
    "# Color coding the boxes\n",
    "for box, color in zip(d2conn_boxplot['boxes'], colors):\n",
    "    box.set_facecolor(color)\n",
    "\n",
    "ax.set_xticklabels(['Nucleus Accumbens', 'Ventral Pallidum', 'Ventral Tegmental Area'])\n",
    "ax.set_ylabel('Projection Density')\n",
    "ax.set_title(\"Projection Densities of Neurons Expressing Dopamine D2 Receptors\")\n",
    "\n",
    "plt.show()"
   ]
  },
  {
   "cell_type": "markdown",
   "metadata": {},
   "source": [
    "# Fig. 2b #\n",
    "\n",
    "Projection densities of neurons expressing D2 receptors. The relative volume of innervation from neurons that express D2 receptors with cell bodies in the Nucleus accumbens. The VTA recieves the lowest relative D2-expressing neuronal input.  Note that significance testing was not carried out due to the few experimental datapoints that were present."
   ]
  },
  {
   "cell_type": "markdown",
   "metadata": {},
   "source": [
    "Now, let's combine the mean expression and projection densities to see whether there are any trends in the two datasets. We can visualize correlation using scatterplots, each showing the mean expression and mean projection density for a given receptor type in each area. We will use the standard deviations for each data type to get a sense of the spread in the data that we have."
   ]
  },
  {
   "cell_type": "markdown",
   "metadata": {},
   "source": [
    "First, we will have to combine the datasets in a way that we will be able to access both the gene expression and connectivity data by indexing a region of interest."
   ]
  },
  {
   "cell_type": "code",
   "execution_count": 33,
   "metadata": {},
   "outputs": [
    {
     "data": {
      "text/html": [
       "<div>\n",
       "<style scoped>\n",
       "    .dataframe tbody tr th:only-of-type {\n",
       "        vertical-align: middle;\n",
       "    }\n",
       "\n",
       "    .dataframe tbody tr th {\n",
       "        vertical-align: top;\n",
       "    }\n",
       "\n",
       "    .dataframe thead th {\n",
       "        text-align: right;\n",
       "    }\n",
       "</style>\n",
       "<table border=\"1\" class=\"dataframe\">\n",
       "  <thead>\n",
       "    <tr style=\"text-align: right;\">\n",
       "      <th></th>\n",
       "      <th>Region</th>\n",
       "      <th>DRD1 expression mean</th>\n",
       "      <th>DRD1 expression std</th>\n",
       "      <th>DRD2 expression mean</th>\n",
       "      <th>DRD2 expression std</th>\n",
       "      <th>DRD1 projection density mean</th>\n",
       "      <th>DRD1 projection density std</th>\n",
       "      <th>DRD2 projection density mean</th>\n",
       "      <th>DRD2 projection density std</th>\n",
       "    </tr>\n",
       "  </thead>\n",
       "  <tbody>\n",
       "    <tr>\n",
       "      <th>0</th>\n",
       "      <td>NAc</td>\n",
       "      <td>2.642543</td>\n",
       "      <td>0.231413</td>\n",
       "      <td>2.186320</td>\n",
       "      <td>0.310186</td>\n",
       "      <td>0.019680</td>\n",
       "      <td>0.019956</td>\n",
       "      <td>0.037706</td>\n",
       "      <td>0.038194</td>\n",
       "    </tr>\n",
       "    <tr>\n",
       "      <th>1</th>\n",
       "      <td>VP</td>\n",
       "      <td>1.576310</td>\n",
       "      <td>0.454213</td>\n",
       "      <td>0.357300</td>\n",
       "      <td>0.137188</td>\n",
       "      <td>0.039792</td>\n",
       "      <td>0.039681</td>\n",
       "      <td>0.032169</td>\n",
       "      <td>0.032241</td>\n",
       "    </tr>\n",
       "    <tr>\n",
       "      <th>2</th>\n",
       "      <td>VTA</td>\n",
       "      <td>-0.406693</td>\n",
       "      <td>0.454213</td>\n",
       "      <td>-0.406693</td>\n",
       "      <td>0.116620</td>\n",
       "      <td>0.038732</td>\n",
       "      <td>0.032532</td>\n",
       "      <td>0.004552</td>\n",
       "      <td>0.004360</td>\n",
       "    </tr>\n",
       "  </tbody>\n",
       "</table>\n",
       "</div>"
      ],
      "text/plain": [
       "  Region  DRD1 expression mean  DRD1 expression std  DRD2 expression mean  \\\n",
       "0    NAc              2.642543             0.231413              2.186320   \n",
       "1     VP              1.576310             0.454213              0.357300   \n",
       "2    VTA             -0.406693             0.454213             -0.406693   \n",
       "\n",
       "   DRD2 expression std  DRD1 projection density mean  \\\n",
       "0             0.310186                      0.019680   \n",
       "1             0.137188                      0.039792   \n",
       "2             0.116620                      0.038732   \n",
       "\n",
       "   DRD1 projection density std  DRD2 projection density mean  \\\n",
       "0                     0.019956                      0.037706   \n",
       "1                     0.039681                      0.032169   \n",
       "2                     0.032532                      0.004552   \n",
       "\n",
       "   DRD2 projection density std  \n",
       "0                     0.038194  \n",
       "1                     0.032241  \n",
       "2                     0.004360  "
      ]
     },
     "execution_count": 33,
     "metadata": {},
     "output_type": "execute_result"
    }
   ],
   "source": [
    "#calculate mean and standard deviation for DRD1 and DRD2 expression levels in Nucleus Accumbens\n",
    "drd1a_NAc_exp = np.mean(drd1A_nac_means)\n",
    "drd1a_NAc_exp_std = np.std(drd1A_nac_means)\n",
    "drd2_NAc_exp = np.mean(drd2_nac_means)\n",
    "drd2_NAc_exp_std = np.std(drd2_nac_means)\n",
    "\n",
    "#calculate mean and standard deviation for DRD1 and DRD2 expression levels in Ventral Pallidum\n",
    "drd1a_vp_exp = np.mean(drd1A_vp_means)\n",
    "drd1a_vp_exp_std = np.std(drd1A_vp_means)\n",
    "drd2_vp_exp = np.mean(drd2_vp_means)\n",
    "drd2_vp_exp_std = np.std(drd2_vp_means)\n",
    "\n",
    "#calculate mean and standard deviation for DRD1 and DRD2 expression levels in Ventral Tegmental Area\n",
    "drd1a_vta_exp = np.mean(drd1A_vta_means)\n",
    "drd1a_vta_exp_std = np.std(drd1A_vta_means)\n",
    "drd2_vta_exp = np.mean(drd2_vta_means)\n",
    "drd2_vta_exp_std = np.std(drd2_vta_means)\n",
    "\n",
    "#calculate mean and standard deviation for projection densities for DRD1\n",
    "NAc_Drd1_mean = NAc_Drd1_df.mean()\n",
    "NAc_Drd1_std = NAc_Drd1_df.std()\n",
    "VP_Drd1_mean = SI_Drd1_df.mean()\n",
    "VP_Drd1_std = SI_Drd1_df.std()\n",
    "VTA_Drd1_mean = VTA_Drd1_df.mean()\n",
    "VTA_Drd1_std = VTA_Drd1_df.std()\n",
    "\n",
    "#calculate mean and standard deviation for projection densities for DRD2\n",
    "NAc_Drd2_mean = NAc_Drd2_df.mean()\n",
    "NAc_Drd2_std = NAc_Drd2_df.std()\n",
    "VP_Drd2_mean = SI_Drd2_df.mean()\n",
    "VP_Drd2_std = SI_Drd2_df.std()\n",
    "VTA_Drd2_mean = VTA_Drd2_df.mean()\n",
    "VTA_Drd2_std = VTA_Drd2_df.std()\n",
    "\n",
    "\n",
    "combined_data = {\n",
    "    'Region': ['NAc', 'VP', 'VTA'],\n",
    "    'DRD1 expression mean': [drd1a_NAc_exp, drd1a_vp_exp, drd1a_vta_exp],\n",
    "    'DRD1 expression std': [drd1a_NAc_exp_std, drd1a_vp_exp_std, drd1a_vp_exp_std],\n",
    "    'DRD2 expression mean': [drd2_NAc_exp, drd2_vp_exp, drd1a_vta_exp],\n",
    "    'DRD2 expression std': [drd2_NAc_exp_std, drd2_vp_exp_std, drd2_vta_exp_std],\n",
    "    'DRD1 projection density mean': [NAc_Drd1_mean, VP_Drd1_mean, VTA_Drd1_mean],\n",
    "    'DRD1 projection density std': [NAc_Drd1_std, VP_Drd1_std, VTA_Drd1_std],\n",
    "    'DRD2 projection density mean': [NAc_Drd2_mean, VP_Drd2_mean, VTA_Drd2_mean],\n",
    "    'DRD2 projection density std': [NAc_Drd2_std, VP_Drd2_std, VTA_Drd2_std]\n",
    "}\n",
    "\n",
    "combined_df = pd.DataFrame(combined_data)\n",
    "\n",
    "combined_df.head()"
   ]
  },
  {
   "cell_type": "markdown",
   "metadata": {},
   "source": [
    "Now that we have a combined dataset that includes the summary statistics that we need, we can make our plot. "
   ]
  },
  {
   "cell_type": "code",
   "execution_count": 34,
   "metadata": {},
   "outputs": [
    {
     "data": {
      "image/png": "[encoded data removed]",
      "text/plain": [
       "<Figure size 576x432 with 1 Axes>"
      ]
     },
     "metadata": {
      "needs_background": "light"
     },
     "output_type": "display_data"
    },
    {
     "data": {
      "image/png": "[encoded data removed]",
      "text/plain": [
       "<Figure size 576x432 with 1 Axes>"
      ]
     },
     "metadata": {
      "needs_background": "light"
     },
     "output_type": "display_data"
    }
   ],
   "source": [
    "#scatterplots to show correlation\n",
    "\n",
    "#Plot for DRD1\n",
    "plt.figure(figsize=(8, 6))\n",
    "for i, region in enumerate(combined_df['Region']):\n",
    "    color = 'green' if region == 'NAc' else 'goldenrod' if region == 'VP' else 'pink'\n",
    "    plt.errorbar(combined_df['DRD1 expression mean'][i], combined_df['DRD1 projection density mean'][i],\n",
    "                 xerr=combined_df['DRD1 expression std'][i], yerr=combined_df['DRD1 projection density std'][i],\n",
    "                 fmt='o', label='DRD1', color=color)\n",
    "    plt.text(combined_df['DRD1 expression mean'][i], combined_df['DRD1 projection density mean'][i], region)\n",
    "plt.xlabel('Mean DRD1 Expression')\n",
    "plt.ylabel('Mean DRD1 Projection Density')\n",
    "plt.title('Mean DRD1 Expression vs. Mean DRD1 Projection Density')\n",
    "plt.grid(True)\n",
    "plt.legend()\n",
    "plt.show()\n",
    "\n",
    "#Plot for DRD2\n",
    "plt.figure(figsize=(8, 6))\n",
    "for i, region in enumerate(combined_df['Region']):\n",
    "    color = 'green' if region == 'NAc' else 'goldenrod' if region == 'VP' else 'pink'\n",
    "    plt.errorbar(combined_df['DRD2 expression mean'][i], combined_df['DRD2 projection density mean'][i],\n",
    "                 xerr=combined_df['DRD2 expression std'][i], yerr=combined_df['DRD2 projection density std'][i],\n",
    "                 fmt='o', label='DRD2', color=color)\n",
    "    plt.text(combined_df['DRD2 expression mean'][i], combined_df['DRD2 projection density mean'][i], region)\n",
    "plt.xlabel('Mean DRD2 Expression')\n",
    "plt.ylabel('Mean DRD2 Projection Density')\n",
    "plt.title('Mean DRD2 Expression vs. Mean DRD2 Projection Density')\n",
    "plt.grid(True)\n",
    "plt.legend()\n",
    "plt.show()"
   ]
  },
  {
   "cell_type": "markdown",
   "metadata": {},
   "source": [
    "## Fig. 3 ##\n",
    "\n",
    "Mean receptor expression plotted against projection density for each area of interest. Standard deviations shown as error bars to visualize variability in the data. A slight negative trend can be seen for the DRD1 data, while a slight positive trend is seen in the DRD2 data. "
   ]
  },
  {
   "cell_type": "markdown",
   "metadata": {},
   "source": [
    "From this, it seems like there might be a positive correlation between projection density and receptor expression for D2 and possibly a negative correlation for D1, but let's do a regression to see whether there is a statistically significant relationship between these variables."
   ]
  },
  {
   "cell_type": "code",
   "execution_count": 35,
   "metadata": {},
   "outputs": [
    {
     "name": "stdout",
     "output_type": "stream",
     "text": [
      "                                 OLS Regression Results                                 \n",
      "========================================================================================\n",
      "Dep. Variable:     DRD1 projection density mean   R-squared:                       0.543\n",
      "Model:                                      OLS   Adj. R-squared:                  0.086\n",
      "Method:                           Least Squares   F-statistic:                     1.188\n",
      "Date:                          Sun, 12 May 2024   Prob (F-statistic):              0.473\n",
      "Time:                                  00:13:13   Log-Likelihood:                 10.970\n",
      "No. Observations:                             3   AIC:                            -17.94\n",
      "Df Residuals:                                 1   BIC:                            -19.74\n",
      "Df Model:                                     1                                         \n",
      "Covariance Type:                      nonrobust                                         \n",
      "========================================================================================\n",
      "                           coef    std err          t      P>|t|      [0.025      0.975]\n",
      "----------------------------------------------------------------------------------------\n",
      "const                    0.0396      0.009      4.468      0.140      -0.073       0.152\n",
      "DRD1 expression mean    -0.0054      0.005     -1.090      0.473      -0.068       0.057\n",
      "==============================================================================\n",
      "Omnibus:                          nan   Durbin-Watson:                   2.942\n",
      "Prob(Omnibus):                    nan   Jarque-Bera (JB):                0.470\n",
      "Skew:                           0.615   Prob(JB):                        0.790\n",
      "Kurtosis:                       1.500   Cond. No.                         3.00\n",
      "==============================================================================\n",
      "\n",
      "Notes:\n",
      "[1] Standard Errors assume that the covariance matrix of the errors is correctly specified.\n",
      "                                 OLS Regression Results                                 \n",
      "========================================================================================\n",
      "Dep. Variable:     DRD2 projection density mean   R-squared:                       0.681\n",
      "Model:                                      OLS   Adj. R-squared:                  0.363\n",
      "Method:                           Least Squares   F-statistic:                     2.137\n",
      "Date:                          Sun, 12 May 2024   Prob (F-statistic):              0.382\n",
      "Time:                                  00:13:13   Log-Likelihood:                 10.159\n",
      "No. Observations:                             3   AIC:                            -16.32\n",
      "Df Residuals:                                 1   BIC:                            -18.12\n",
      "Df Model:                                     1                                         \n",
      "Covariance Type:                      nonrobust                                         \n",
      "========================================================================================\n",
      "                           coef    std err          t      P>|t|      [0.025      0.975]\n",
      "----------------------------------------------------------------------------------------\n",
      "const                    0.0170      0.010      1.734      0.333      -0.107       0.141\n",
      "DRD2 expression mean     0.0110      0.008      1.462      0.382      -0.085       0.107\n",
      "==============================================================================\n",
      "Omnibus:                          nan   Durbin-Watson:                   2.894\n",
      "Prob(Omnibus):                    nan   Jarque-Bera (JB):                0.428\n",
      "Skew:                           0.542   Prob(JB):                        0.807\n",
      "Kurtosis:                       1.500   Cond. No.                         1.96\n",
      "==============================================================================\n",
      "\n",
      "Notes:\n",
      "[1] Standard Errors assume that the covariance matrix of the errors is correctly specified.\n",
      "There is a moderate correlation between D1 projection density and DRD1 receptor expression.\n",
      "There is a moderate correlation between D2 projection density and DRD2 receptor expression.\n"
     ]
    },
    {
     "name": "stderr",
     "output_type": "stream",
     "text": [
      "/opt/conda/lib/python3.9/site-packages/statsmodels/stats/stattools.py:74: ValueWarning: omni_normtest is not valid with less than 8 observations; 3 samples were given.\n",
      "  warn(\"omni_normtest is not valid with less than 8 observations; %i \"\n",
      "/opt/conda/lib/python3.9/site-packages/statsmodels/stats/stattools.py:74: ValueWarning: omni_normtest is not valid with less than 8 observations; 3 samples were given.\n",
      "  warn(\"omni_normtest is not valid with less than 8 observations; %i \"\n"
     ]
    }
   ],
   "source": [
    "# For DRD1\n",
    "# Add a constant for the intercept\n",
    "X_drd1 = sm.add_constant(combined_df['DRD1 expression mean']) \n",
    "y_drd1 = combined_df['DRD1 projection density mean']\n",
    "\n",
    "# Fit the linear regression model\n",
    "model_drd1 = sm.OLS(y_drd1, X_drd1).fit()  \n",
    "print(model_drd1.summary())  # Print summary of regression results\n",
    "\n",
    "# For DRD2\n",
    "X_drd2 = sm.add_constant(combined_df['DRD2 expression mean'])\n",
    "y_drd2 = combined_df['DRD2 projection density mean']\n",
    "\n",
    "model_drd2 = sm.OLS(y_drd2, X_drd2).fit()\n",
    "print(model_drd2.summary())\n",
    "\n",
    "#Summary\n",
    "# For DRD1\n",
    "if model_drd1.rsquared > 0.8 :\n",
    "    print(\"There is a strong correlation between D1 projection density and DRD1 receptor expression.\")\n",
    "elif model_drd1.rsquared > 0.5:\n",
    "    print(\"There is a moderate correlation between D1 projection density and DRD1 receptor expression.\")\n",
    "else:\n",
    "    print(\"There is no significant correlation between D1 projection density and DRD1 receptor expression.\")\n",
    "\n",
    "# For DRD2\n",
    "if model_drd2.rsquared > 0.8 :\n",
    "    print(\"There is a strong correlation between D2 projection density and DRD2 receptor expression.\")\n",
    "elif model_drd2.rsquared > 0.5:\n",
    "    print(\"There is a moderate correlation between D2 projection density and DRD2 receptor expression.\")\n",
    "else:\n",
    "    print(\"There is no significant correlation between D2 projection density and DRD2 receptor expression.\")"
   ]
  },
  {
   "cell_type": "markdown",
   "metadata": {},
   "source": [
    "Based on the regression test, it seems like there is at least a moderate relationship between receptor expression and projection density. However, it is important to understand that because we have very few Cre experiments there is fairly low statistical power in this test, and we only have three brain regions from which to create our regression model. Thus, more observations would be needed to make a definitive statement regarding the relationship between these two variables."
   ]
  },
  {
   "cell_type": "markdown",
   "metadata": {},
   "source": [
    "## Conclusion & Discussion"
   ]
  },
  {
   "cell_type": "markdown",
   "metadata": {},
   "source": [
    "The receptors expressed by a brain area are expected to correspond to the inputs it receives. D1 and D2 inputs to various parts of the mesolimbic pathway have been well characterized. Thus, we utilized data for D1 and D2 receptors to understand and correlate the circuitry of three brain regions in the mesolimbic pathway with their receptor expression. Canonically, the circuitry of the mesolimbic pathway has been described as a direct D1 pathway from the NAc to the VTA alongside an indirect pathway from the NAc utilizing D2-MSNs as input neurons first to the VP and then D2 input from the VP to the VTA. An updated concept indicates that a more likely model uses D1 and D2 neurons as inputs both to the VTA and the VP (Kupchik and Kalivas, 2017). \n",
    "\n",
    "We predicted that the VP would express more D2 receptors as it ‘expects’ input from D2 neurons with cell bodies in the NAc. However, the VP was found to express more D1 receptors than D2 receptors, which is somewhat supported by the updated findings that D1 neurons, which comprise a significant portion of what was previously known as the D2 pathway, synapse on the VP before the VTA (Kupchik et al, 2015). Since the NAc contains the cell bodies of both D1 and D2 neurons and is reciprocally and recurrently connected to itself and other areas via dopaminergic input, it follows that we found the highest relative expression of both D1 and D2 receptors in this area (Xia et al, 2011). Finally, the VTA receives input from the VP as well as the NAc through both neuron types, both in the canonical model as well as the updated blended model. Because of this, we expected to see both receptor types expressed in the area, and while D1 and D2 expression was found, both were very low. This may be due to the VTA’s small relative size limiting it to a smaller pool of input neurons or few experimental data points in the microarray data.\n",
    "\n",
    "Projection density was the metric chosen to analyze the connectivity dataset, which is a measure of the sum of the pixels in which the reporter is detected divided by the total pixels in that region. Because the NAc projects downstream to the VTA and VP, as well as back to itself and participates in reciprocal dopaminergic circuits via the VTA, we chose it as our injection structure to measure the downstream connectivity of the circuit (Van Bockstaele and Pickel, 1995). We found that while the normalized projection densities of the D1-receptor expressing neurons were fairly consistent, the VTA was innervated by almost no neurons from the NAC that expressed D2 receptors. This is consistent with the canonical indirect/direct pathway concept, as the VTA receives D1 input from the NAc, while D2 neurons targeting the VTA primarily originate in the VP after receiving D2 input from the NAc via the indirect D2 pathway (Van Bockstaele and Pickel, 1995, Pardo-Garcia et al, 2019). The updated blended concept supports our finding as well, as it suggests that D2 input to the VTA is still only from the VP, which sends and receives both types of dopaminergic input. However, the finding that the VP is innervated by both D1-MSNs and D2-MSNs with somas in the NAc suggests that the updated concept may be more accurate as both neuron types are represented in the NAc/VP circuit as opposed to D2 only. \n",
    "\n",
    "There is consistency across the two datasets in that the VP and NAc express D1 and D2 receptors and are innervated by both neuron types, however the VTA is preferentially innervated by D1 neurons from the NAc yet expresses a higher level of D2 receptors. This could be explained by the fact that the VTA is innervated by D2 neurons coming from the VP, rather than the NAc. Because we only used experiments with the NAc as the injection structure we only saw projections coming from the NAc, thus the D2 innervation of the area may not have been fully represented. While there was a moderate positive correlation among the D2 data, there was a moderate negative correlation in the D1 data. However, the combined data showed significant variability, most likely due to very few data points being present (only 2 experiments for DRD2 and 3 for DRD1). Limiting our analysis only to three brain areas also meant that regression could not be as statistically sound as if we measured trends in many areas across the whole brain. For future analyses, a higher number of projection experiments would be beneficial as physiological data can be difficult to interpret with precision especially with very few subjects. Additionally, while the gene expression data provides information regarding total receptor density, the projection density data depends on the injection site and thus does not provide information regarding the total number of neurons of a certain type innervating that structure. To get a sense of an area’s true projection density for a certain neuron type, all inputs of that neuron type should be considered, and it would be expected that the receptor density would more closely match the amount of input from that cell type. \n",
    "\n",
    "The instances of consistency seen between receptor and projection density indicates that it could be useful to analyze the gene expression of an area for receptors to a certain neurotransmitter prior to gathering any anatomical data, which often requires histology and can be difficult to repeat and carry out on a large scale. The type and amount of receptors that an area expresses, which can be accessed from databases such as the Allen Institute’s microarray data, may give valuable insight into the projections that it expects and can help researchers to understand targets and inputs within less well-understood circuits."
   ]
  },
  {
   "cell_type": "markdown",
   "metadata": {},
   "source": [
    "## References ##\n",
    "\n",
    "Andrade, L., Caraveo-Anduaga, J. J., Berglund, P., Bijl, R. V., De Graaf, R., Vollebergh, W., Dragomirecka, E., Kohn, R., Keller, M., Kessler, R. C., Kawakami, N., Kiliç, C., Offord, D., Ustun, T. B., & Wittchen, H. U. (2003). The epidemiology of major depressive episodes: results from the International Consortium of Psychiatric Epidemiology (ICPE) Surveys. International journal of methods in psychiatric research, 12(1), 3–21. https://doi.org/10.1002/mpr.138\n",
    "\n",
    "Allen Institute for Brain Science. (2004). Allen Mouse Brain Atlas Connectivity. Available from mouse.brain-map.org.\n",
    "\n",
    "Allen Institute for Brain Science. (2004). Allen Mouse Brain Atlas MicroArray. Available from mouse.brain-map.org.\n",
    "\n",
    "Doncheck, E. M., & Mantsch, J. R. (2019). Role of Stress-Associated Signaling in Addiction. https://doi.org/10.1016/B978-0-12-812202-0.00011-7\n",
    "\n",
    "Knowland, D., & Lim, B. K. (2018). Circuit-based frameworks of depressive behaviors: The role of reward circuitry and beyond. Pharmacology, biochemistry, and behavior, 174, 42–52. https://doi.org/10.1016/j.pbb.2017.12.010\n",
    "\n",
    "Kravitz, A. V., Tye, L. D., & Kreitzer, A. C. (2012). Distinct roles for direct and indirect pathway striatal neurons in reinforcement. Nature neuroscience, 15(6), 816–818. https://doi.org/10.1038/nn.3100\n",
    "\n",
    "Kupchik, Y., Brown, R., Heinsbroek, J., et al. (2015). Coding the direct/indirect pathways by D1 and D2 receptors is not valid for accumbens projections. Nat Neurosci, 18, 1230–1232. https://doi.org/10.1038/nn.4068\n",
    "\n",
    "Kupchik, Y., Kalivas, P. (2017). The Direct and Indirect Pathways of the Nucleus Accumbens are not What You Think. Neuropsychopharmacology, 42, 369–370. https://doi.org/10.1038/npp.2016.160\n",
    "\n",
    "Nestler, E. J., & Hyman, S. E. (2010). Animal models of neuropsychiatric disorders. Nature neuroscience, 13(10), 1161–1169. https://doi.org/10.1038/nn.2647\n",
    "\n",
    "Pardo-Garcia, T. R., Garcia-Keller, C., Penaloza, T., Richie, C. T., Pickel, J., Hope, B. T., Harvey, B. K., Kalivas, P. W., & Heinsbroek, J. A. (2019). Ventral Pallidum Is the Primary Target for Accumbens D1 Projections Driving Cocaine Seeking. The Journal of neuroscience : the official journal of the Society for Neuroscience, 39(11), 2041–2051. https://doi.org/10.1523/JNEUROSCI.2822-18.2018\n",
    "\n",
    "Van Bockstaele, E. J., & Pickel, V. M. (1995). GABA-containing neurons in the ventral tegmental area project to the nucleus accumbens in rat brain. Brain research, 682(1-2), 215–221. https://doi.org/10.1016/0006-8993(95)00334-m\n",
    "\n",
    "Xia, Y., Driscoll, J. R., Wilbrecht, L., Margolis, E. B., Fields, H. L., & Hjelmstad, G. O. (2011). Nucleus accumbens medium spiny neurons target non-dopaminergic neurons in the ventral tegmental area. The Journal of neuroscience : the official journal of the Society for Neuroscience, 31(21), 7811–7816. https://doi.org/10.1523/JNEUROSCI.1504-11.2011\n",
    "\n",
    "Zhou, K., Xu, H., Lu, S., et al. (2022). Reward and aversion processing by input-defined parallel nucleus accumbens circuits in mice. Nat Commun, 13, 6244. https://doi.org/10.1038/s41467-022-33843-3"
   ]
  }
 ],
 "metadata": {
  "kernelspec": {
   "display_name": "Python 3 (ipykernel)",
   "language": "python",
   "name": "python3"
  },
  "language_info": {
   "codemirror_mode": {
    "name": "ipython",
    "version": 3
   },
   "file_extension": ".py",
   "mimetype": "text/x-python",
   "name": "python",
   "nbconvert_exporter": "python",
   "pygments_lexer": "ipython3",
   "version": "3.9.5"
  }
 },
 "nbformat": 4,
 "nbformat_minor": 2
}
